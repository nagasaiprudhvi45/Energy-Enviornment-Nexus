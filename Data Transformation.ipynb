{
 "cells": [
  {
   "cell_type": "code",
   "execution_count": 0,
   "metadata": {
    "application/vnd.databricks.v1+cell": {
     "cellMetadata": {
      "byteLimit": 2048000,
      "rowLimit": 10000
     },
     "inputWidgets": {},
     "nuid": "aea3b5c9-fb77-4c83-a1fc-14f36baac5aa",
     "showTitle": true,
     "title": "Mounting the Azure ADLS container"
    }
   },
   "outputs": [
    {
     "output_type": "display_data",
     "data": {
      "text/plain": [
       "\u001B[0;31m---------------------------------------------------------------------------\u001B[0m\n",
       "\u001B[0;31mExecutionError\u001B[0m                            Traceback (most recent call last)\n",
       "File \u001B[0;32m<command-294508866870502>:1\u001B[0m\n",
       "\u001B[0;32m----> 1\u001B[0m \u001B[43mdbutils\u001B[49m\u001B[38;5;241;43m.\u001B[39;49m\u001B[43mfs\u001B[49m\u001B[38;5;241;43m.\u001B[39;49m\u001B[43mmount\u001B[49m\u001B[43m(\u001B[49m\n",
       "\u001B[1;32m      2\u001B[0m \u001B[43msource\u001B[49m\u001B[43m \u001B[49m\u001B[38;5;241;43m=\u001B[39;49m\u001B[43m \u001B[49m\u001B[38;5;124;43m'\u001B[39;49m\u001B[38;5;124;43mwasbs://energy-climate-data@energyclimatedata.blob.core.windows.net\u001B[39;49m\u001B[38;5;124;43m'\u001B[39;49m\u001B[43m,\u001B[49m\u001B[43m \u001B[49m\u001B[38;5;66;43;03m# contrainer@storageacc\u001B[39;49;00m\n",
       "\u001B[1;32m      3\u001B[0m \u001B[43mmount_point\u001B[49m\u001B[43m \u001B[49m\u001B[38;5;241;43m=\u001B[39;49m\u001B[43m \u001B[49m\u001B[38;5;124;43m'\u001B[39;49m\u001B[38;5;124;43m/mnt/energyclimatenexus\u001B[39;49m\u001B[38;5;124;43m'\u001B[39;49m\u001B[43m,\u001B[49m\n",
       "\u001B[1;32m      4\u001B[0m \u001B[43mextra_configs\u001B[49m\u001B[43m \u001B[49m\u001B[38;5;241;43m=\u001B[39;49m\u001B[43m \u001B[49m\u001B[43m{\u001B[49m\u001B[38;5;124;43m'\u001B[39;49m\u001B[38;5;124;43mfs.azure.account.key.energyclimatedata.blob.core.windows.net\u001B[39;49m\u001B[38;5;124;43m'\u001B[39;49m\u001B[43m:\u001B[49m\u001B[38;5;124;43m'\u001B[39;49m\u001B[38;5;124;43mjcLtlXk09OHdNjb1AdkjmC3rgmnD5dM8oukeYudNceBdzcgQ1UFL0I7zEJ+ok4mykJBvmWcM7TCH+ASt1ZedzQ==\u001B[39;49m\u001B[38;5;124;43m'\u001B[39;49m\u001B[43m}\u001B[49m\u001B[43m)\u001B[49m\n",
       "\n",
       "File \u001B[0;32m/databricks/python_shell/dbruntime/dbutils.py:362\u001B[0m, in \u001B[0;36mDBUtils.FSHandler.prettify_exception_message.<locals>.f_with_exception_handling\u001B[0;34m(*args, **kwargs)\u001B[0m\n",
       "\u001B[1;32m    360\u001B[0m exc\u001B[38;5;241m.\u001B[39m__context__ \u001B[38;5;241m=\u001B[39m \u001B[38;5;28;01mNone\u001B[39;00m\n",
       "\u001B[1;32m    361\u001B[0m exc\u001B[38;5;241m.\u001B[39m__cause__ \u001B[38;5;241m=\u001B[39m \u001B[38;5;28;01mNone\u001B[39;00m\n",
       "\u001B[0;32m--> 362\u001B[0m \u001B[38;5;28;01mraise\u001B[39;00m exc\n",
       "\n",
       "\u001B[0;31mExecutionError\u001B[0m: An error occurred while calling o375.mount.\n",
       ": java.rmi.RemoteException: java.lang.IllegalArgumentException: requirement failed: Directory already mounted: /mnt/energyclimatenexus; nested exception is: \n",
       "\tjava.lang.IllegalArgumentException: requirement failed: Directory already mounted: /mnt/energyclimatenexus\n",
       "\tat com.databricks.backend.daemon.data.client.DbfsClient.send0(DbfsClient.scala:135)\n",
       "\tat com.databricks.backend.daemon.data.client.DbfsClient.sendIdempotent(DbfsClient.scala:69)\n",
       "\tat com.databricks.backend.daemon.dbutils.DBUtilsCore.createOrUpdateMount(DBUtilsCore.scala:1025)\n",
       "\tat com.databricks.backend.daemon.dbutils.DBUtilsCore.$anonfun$mount$1(DBUtilsCore.scala:1051)\n",
       "\tat com.databricks.logging.UsageLogging.$anonfun$recordOperation$1(UsageLogging.scala:557)\n",
       "\tat com.databricks.logging.UsageLogging.executeThunkAndCaptureResultTags$1(UsageLogging.scala:652)\n",
       "\tat com.databricks.logging.UsageLogging.$anonfun$recordOperationWithResultTags$4(UsageLogging.scala:673)\n",
       "\tat com.databricks.logging.UsageLogging.$anonfun$withAttributionContext$1(UsageLogging.scala:414)\n",
       "\tat scala.util.DynamicVariable.withValue(DynamicVariable.scala:62)\n",
       "\tat com.databricks.logging.AttributionContext$.withValue(AttributionContext.scala:158)\n",
       "\tat com.databricks.logging.UsageLogging.withAttributionContext(UsageLogging.scala:412)\n",
       "\tat com.databricks.logging.UsageLogging.withAttributionContext$(UsageLogging.scala:409)\n",
       "\tat com.databricks.backend.daemon.dbutils.FSUtils.withAttributionContext(DBUtilsCore.scala:69)\n",
       "\tat com.databricks.logging.UsageLogging.withAttributionTags(UsageLogging.scala:457)\n",
       "\tat com.databricks.logging.UsageLogging.withAttributionTags$(UsageLogging.scala:442)\n",
       "\tat com.databricks.backend.daemon.dbutils.FSUtils.withAttributionTags(DBUtilsCore.scala:69)\n",
       "\tat com.databricks.logging.UsageLogging.recordOperationWithResultTags(UsageLogging.scala:647)\n",
       "\tat com.databricks.logging.UsageLogging.recordOperationWithResultTags$(UsageLogging.scala:566)\n",
       "\tat com.databricks.backend.daemon.dbutils.FSUtils.recordOperationWithResultTags(DBUtilsCore.scala:69)\n",
       "\tat com.databricks.logging.UsageLogging.recordOperation(UsageLogging.scala:557)\n",
       "\tat com.databricks.logging.UsageLogging.recordOperation$(UsageLogging.scala:527)\n",
       "\tat com.databricks.backend.daemon.dbutils.FSUtils.recordOperation(DBUtilsCore.scala:69)\n",
       "\tat com.databricks.backend.daemon.dbutils.FSUtils.recordDbutilsFsOp(DBUtilsCore.scala:133)\n",
       "\tat com.databricks.backend.daemon.dbutils.DBUtilsCore.mount(DBUtilsCore.scala:1045)\n",
       "\tat sun.reflect.NativeMethodAccessorImpl.invoke0(Native Method)\n",
       "\tat sun.reflect.NativeMethodAccessorImpl.invoke(NativeMethodAccessorImpl.java:62)\n",
       "\tat sun.reflect.DelegatingMethodAccessorImpl.invoke(DelegatingMethodAccessorImpl.java:43)\n",
       "\tat java.lang.reflect.Method.invoke(Method.java:498)\n",
       "\tat py4j.reflection.MethodInvoker.invoke(MethodInvoker.java:244)\n",
       "\tat py4j.reflection.ReflectionEngine.invoke(ReflectionEngine.java:380)\n",
       "\tat py4j.Gateway.invoke(Gateway.java:306)\n",
       "\tat py4j.commands.AbstractCommand.invokeMethod(AbstractCommand.java:132)\n",
       "\tat py4j.commands.CallCommand.execute(CallCommand.java:79)\n",
       "\tat py4j.ClientServerConnection.waitForCommands(ClientServerConnection.java:195)\n",
       "\tat py4j.ClientServerConnection.run(ClientServerConnection.java:115)\n",
       "\tat java.lang.Thread.run(Thread.java:750)\n",
       "Caused by: java.lang.IllegalArgumentException: requirement failed: Directory already mounted: /mnt/energyclimatenexus\n",
       "\tat scala.Predef$.require(Predef.scala:281)\n",
       "\tat com.databricks.backend.daemon.data.server.DefaultMetadataManager.$anonfun$insertMount$1(MetadataManager.scala:656)\n",
       "\tat com.databricks.backend.daemon.data.server.DefaultMetadataManager.$anonfun$modifyAndVerify$2(MetadataManager.scala:1032)\n",
       "\tat scala.runtime.java8.JFunction0$mcV$sp.apply(JFunction0$mcV$sp.java:23)\n",
       "\tat com.databricks.backend.daemon.data.server.DefaultMetadataManager.withRetries(MetadataManager.scala:805)\n",
       "\tat com.databricks.backend.daemon.data.server.DefaultMetadataManager.modifyAndVerify(MetadataManager.scala:1021)\n",
       "\tat com.databricks.backend.daemon.data.server.DefaultMetadataManager.insertMount(MetadataManager.scala:664)\n",
       "\tat com.databricks.backend.daemon.data.server.handler.MountHandler.receive(MountHandler.scala:128)\n",
       "\tat com.databricks.backend.daemon.data.server.handler.CEMountHandler.receive(MountHandler.scala:172)\n",
       "\tat com.databricks.backend.daemon.data.server.session.SessionContext.$anonfun$queryHandlers$1(SessionContext.scala:54)\n",
       "\tat com.databricks.backend.daemon.data.server.session.SessionContext.$anonfun$queryHandlers$1$adapted(SessionContext.scala:53)\n",
       "\tat scala.collection.immutable.List.foreach(List.scala:431)\n",
       "\tat com.databricks.backend.daemon.data.server.session.SessionContext.queryHandlers(SessionContext.scala:53)\n",
       "\tat com.databricks.backend.daemon.data.server.DbfsServerBackend$$anonfun$receive$4.$anonfun$applyOrElse$9(DbfsServerBackend.scala:386)\n",
       "\tat com.databricks.logging.UsageLogging.$anonfun$withAttributionContext$1(UsageLogging.scala:426)\n",
       "\tat scala.util.DynamicVariable.withValue(DynamicVariable.scala:62)\n",
       "\tat com.databricks.logging.AttributionContext$.withValue(AttributionContext.scala:216)\n",
       "\tat com.databricks.logging.UsageLogging.withAttributionContext(UsageLogging.scala:424)\n",
       "\tat com.databricks.logging.UsageLogging.withAttributionContext$(UsageLogging.scala:418)\n",
       "\tat com.databricks.rpc.ServerBackend.withAttributionContext(ServerBackend.scala:22)\n",
       "\tat com.databricks.logging.UsageLogging.withAttributionTags(UsageLogging.scala:472)\n",
       "\tat com.databricks.logging.UsageLogging.withAttributionTags$(UsageLogging.scala:455)\n",
       "\tat com.databricks.rpc.ServerBackend.withAttributionTags(ServerBackend.scala:22)\n",
       "\tat com.databricks.backend.daemon.data.server.DbfsServerBackend$$anonfun$receive$4.applyOrElse(DbfsServerBackend.scala:386)\n",
       "\tat com.databricks.backend.daemon.data.server.DbfsServerBackend$$anonfun$receive$4.applyOrElse(DbfsServerBackend.scala:326)\n",
       "\tat com.databricks.rpc.ServerBackend.$anonfun$internalReceive0$2(ServerBackend.scala:174)\n",
       "\tat com.databricks.rpc.ServerBackend$$anonfun$commonReceive$1.applyOrElse(ServerBackend.scala:200)\n",
       "\tat com.databricks.rpc.ServerBackend$$anonfun$commonReceive$1.applyOrElse(ServerBackend.scala:200)\n",
       "\tat com.databricks.rpc.ServerBackend.internalReceive0(ServerBackend.scala:171)\n",
       "\tat com.databricks.rpc.ServerBackend.$anonfun$internalReceive$1(ServerBackend.scala:147)\n",
       "\tat com.databricks.logging.UsageLogging.$anonfun$recordOperation$1(UsageLogging.scala:573)\n",
       "\tat com.databricks.logging.UsageLogging.executeThunkAndCaptureResultTags$1(UsageLogging.scala:668)\n",
       "\tat com.databricks.logging.UsageLogging.$anonfun$recordOperationWithResultTags$4(UsageLogging.scala:686)\n",
       "\tat com.databricks.logging.UsageLogging.$anonfun$withAttributionContext$1(UsageLogging.scala:426)\n",
       "\tat scala.util.DynamicVariable.withValue(DynamicVariable.scala:62)\n",
       "\tat com.databricks.logging.AttributionContext$.withValue(AttributionContext.scala:216)\n",
       "\tat com.databricks.logging.UsageLogging.withAttributionContext(UsageLogging.scala:424)\n",
       "\tat com.databricks.logging.UsageLogging.withAttributionContext$(UsageLogging.scala:418)\n",
       "\tat com.databricks.rpc.ServerBackend.withAttributionContext(ServerBackend.scala:22)\n",
       "\tat com.databricks.logging.UsageLogging.withAttributionTags(UsageLogging.scala:472)\n",
       "\tat com.databricks.logging.UsageLogging.withAttributionTags$(UsageLogging.scala:455)\n",
       "\tat com.databricks.rpc.ServerBackend.withAttributionTags(ServerBackend.scala:22)\n",
       "\tat com.databricks.logging.UsageLogging.recordOperationWithResultTags(UsageLogging.scala:663)\n",
       "\tat com.databricks.logging.UsageLogging.recordOperationWithResultTags$(UsageLogging.scala:582)\n",
       "\tat com.databricks.rpc.ServerBackend.recordOperationWithResultTags(ServerBackend.scala:22)\n",
       "\tat com.databricks.logging.UsageLogging.recordOperation(UsageLogging.scala:573)\n",
       "\tat com.databricks.logging.UsageLogging.recordOperation$(UsageLogging.scala:542)\n",
       "\tat com.databricks.rpc.ServerBackend.recordOperation(ServerBackend.scala:22)\n",
       "\tat com.databricks.rpc.ServerBackend.internalReceive(ServerBackend.scala:147)\n",
       "\tat com.databricks.rpc.JettyServer$RequestManager.handleRPC(JettyServer.scala:1020)\n",
       "\tat com.databricks.rpc.JettyServer$RequestManager.handleRequestAndRespond(JettyServer.scala:941)\n",
       "\tat com.databricks.rpc.JettyServer$RequestManager.$anonfun$handleHttp$6(JettyServer.scala:545)\n",
       "\tat com.databricks.rpc.JettyServer$RequestManager.$anonfun$handleHttp$6$adapted(JettyServer.scala:514)\n",
       "\tat com.databricks.logging.activity.ActivityContextFactory$.$anonfun$withActivityInternal$4(ActivityContextFactory.scala:405)\n",
       "\tat com.databricks.logging.UsageLogging.$anonfun$withAttributionContext$1(UsageLogging.scala:426)\n",
       "\tat scala.util.DynamicVariable.withValue(DynamicVariable.scala:62)\n",
       "\tat com.databricks.logging.AttributionContext$.withValue(AttributionContext.scala:216)\n",
       "\tat com.databricks.logging.UsageLogging.withAttributionContext(UsageLogging.scala:424)\n",
       "\tat com.databricks.logging.UsageLogging.withAttributionContext$(UsageLogging.scala:418)\n",
       "\tat com.databricks.logging.activity.ActivityContextFactory$.withAttributionContext(ActivityContextFactory.scala:58)\n",
       "\tat com.databricks.logging.activity.ActivityContextFactory$.$anonfun$withActivityInternal$1(ActivityContextFactory.scala:405)\n",
       "\tat com.databricks.context.integrity.IntegrityCheckContext$ThreadLocalStorage$.withValue(IntegrityCheckContext.scala:44)\n",
       "\tat com.databricks.logging.activity.ActivityContextFactory$.withActivityInternal(ActivityContextFactory.scala:380)\n",
       "\tat com.databricks.logging.activity.ActivityContextFactory$.withServiceRequestActivity(ActivityContextFactory.scala:159)\n",
       "\tat com.databricks.rpc.JettyServer$RequestManager.handleHttp(JettyServer.scala:514)\n",
       "\tat com.databricks.rpc.JettyServer$RequestManager.doPost(JettyServer.scala:404)\n",
       "\tat javax.servlet.http.HttpServlet.service(HttpServlet.java:665)\n",
       "\tat com.databricks.rpc.HttpServletWithPatch.service(HttpServletWithPatch.scala:33)\n",
       "\tat javax.servlet.http.HttpServlet.service(HttpServlet.java:750)\n",
       "\tat org.eclipse.jetty.servlet.ServletHolder.handle(ServletHolder.java:799)\n",
       "\tat org.eclipse.jetty.servlet.ServletHandler.doHandle(ServletHandler.java:554)\n",
       "\tat org.eclipse.jetty.server.handler.ScopedHandler.nextScope(ScopedHandler.java:190)\n",
       "\tat org.eclipse.jetty.servlet.ServletHandler.doScope(ServletHandler.java:505)\n",
       "\tat org.eclipse.jetty.server.handler.ScopedHandler.handle(ScopedHandler.java:141)\n",
       "\tat org.eclipse.jetty.server.handler.HandlerWrapper.handle(HandlerWrapper.java:127)\n",
       "\tat org.eclipse.jetty.server.Server.handle(Server.java:516)\n",
       "\tat org.eclipse.jetty.server.HttpChannel.lambda$handle$1(HttpChannel.java:487)\n",
       "\tat org.eclipse.jetty.server.HttpChannel.dispatch(HttpChannel.java:732)\n",
       "\tat org.eclipse.jetty.server.HttpChannel.handle(HttpChannel.java:479)\n",
       "\tat org.eclipse.jetty.server.HttpConnection.onFillable(HttpConnection.java:277)\n",
       "\tat org.eclipse.jetty.io.AbstractConnection$ReadCallback.succeeded(AbstractConnection.java:311)\n",
       "\tat org.eclipse.jetty.io.FillInterest.fillable(FillInterest.java:105)\n",
       "\tat org.eclipse.jetty.io.ChannelEndPoint$1.run(ChannelEndPoint.java:104)\n",
       "\tat org.eclipse.jetty.util.thread.strategy.EatWhatYouKill.runTask(EatWhatYouKill.java:338)\n",
       "\tat org.eclipse.jetty.util.thread.strategy.EatWhatYouKill.doProduce(EatWhatYouKill.java:315)\n",
       "\tat org.eclipse.jetty.util.thread.strategy.EatWhatYouKill.tryProduce(EatWhatYouKill.java:173)\n",
       "\tat org.eclipse.jetty.util.thread.strategy.EatWhatYouKill.run(EatWhatYouKill.java:131)\n",
       "\tat org.eclipse.jetty.util.thread.ReservedThreadExecutor$ReservedThread.run(ReservedThreadExecutor.java:409)\n",
       "\tat com.databricks.rpc.InstrumentedQueuedThreadPool$$anon$1.$anonfun$run$4(InstrumentedQueuedThreadPool.scala:104)\n",
       "\tat scala.runtime.java8.JFunction0$mcV$sp.apply(JFunction0$mcV$sp.java:23)\n",
       "\tat com.databricks.logging.UsageLogging.$anonfun$withAttributionContext$1(UsageLogging.scala:426)\n",
       "\tat scala.util.DynamicVariable.withValue(DynamicVariable.scala:62)\n",
       "\tat com.databricks.logging.AttributionContext$.withValue(AttributionContext.scala:216)\n",
       "\tat com.databricks.logging.UsageLogging.withAttributionContext(UsageLogging.scala:424)\n",
       "\tat com.databricks.logging.UsageLogging.withAttributionContext$(UsageLogging.scala:418)\n",
       "\tat com.databricks.rpc.InstrumentedQueuedThreadPool.withAttributionContext(InstrumentedQueuedThreadPool.scala:47)\n",
       "\tat com.databricks.rpc.InstrumentedQueuedThreadPool$$anon$1.$anonfun$run$1(InstrumentedQueuedThreadPool.scala:104)\n",
       "\tat scala.runtime.java8.JFunction0$mcV$sp.apply(JFunction0$mcV$sp.java:23)\n",
       "\tat com.databricks.instrumentation.QueuedThreadPoolInstrumenter.trackActiveThreads(QueuedThreadPoolInstrumenter.scala:66)\n",
       "\tat com.databricks.instrumentation.QueuedThreadPoolInstrumenter.trackActiveThreads$(QueuedThreadPoolInstrumenter.scala:63)\n",
       "\tat com.databricks.rpc.InstrumentedQueuedThreadPool.trackActiveThreads(InstrumentedQueuedThreadPool.scala:47)\n",
       "\tat com.databricks.rpc.InstrumentedQueuedThreadPool$$anon$1.run(InstrumentedQueuedThreadPool.scala:86)\n",
       "\tat org.eclipse.jetty.util.thread.QueuedThreadPool.runJob(QueuedThreadPool.java:883)\n",
       "\tat org.eclipse.jetty.util.thread.QueuedThreadPool$Runner.run(QueuedThreadPool.java:1034)\n",
       "\tat java.lang.Thread.run(Thread.java:833)\n"
      ]
     },
     "metadata": {
      "application/vnd.databricks.v1+output": {
       "arguments": {},
       "data": "\u001B[0;31m---------------------------------------------------------------------------\u001B[0m\n\u001B[0;31mExecutionError\u001B[0m                            Traceback (most recent call last)\nFile \u001B[0;32m<command-294508866870502>:1\u001B[0m\n\u001B[0;32m----> 1\u001B[0m \u001B[43mdbutils\u001B[49m\u001B[38;5;241;43m.\u001B[39;49m\u001B[43mfs\u001B[49m\u001B[38;5;241;43m.\u001B[39;49m\u001B[43mmount\u001B[49m\u001B[43m(\u001B[49m\n\u001B[1;32m      2\u001B[0m \u001B[43msource\u001B[49m\u001B[43m \u001B[49m\u001B[38;5;241;43m=\u001B[39;49m\u001B[43m \u001B[49m\u001B[38;5;124;43m'\u001B[39;49m\u001B[38;5;124;43mwasbs://energy-climate-data@energyclimatedata.blob.core.windows.net\u001B[39;49m\u001B[38;5;124;43m'\u001B[39;49m\u001B[43m,\u001B[49m\u001B[43m \u001B[49m\u001B[38;5;66;43;03m# contrainer@storageacc\u001B[39;49;00m\n\u001B[1;32m      3\u001B[0m \u001B[43mmount_point\u001B[49m\u001B[43m \u001B[49m\u001B[38;5;241;43m=\u001B[39;49m\u001B[43m \u001B[49m\u001B[38;5;124;43m'\u001B[39;49m\u001B[38;5;124;43m/mnt/energyclimatenexus\u001B[39;49m\u001B[38;5;124;43m'\u001B[39;49m\u001B[43m,\u001B[49m\n\u001B[1;32m      4\u001B[0m \u001B[43mextra_configs\u001B[49m\u001B[43m \u001B[49m\u001B[38;5;241;43m=\u001B[39;49m\u001B[43m \u001B[49m\u001B[43m{\u001B[49m\u001B[38;5;124;43m'\u001B[39;49m\u001B[38;5;124;43mfs.azure.account.key.energyclimatedata.blob.core.windows.net\u001B[39;49m\u001B[38;5;124;43m'\u001B[39;49m\u001B[43m:\u001B[49m\u001B[38;5;124;43m'\u001B[39;49m\u001B[38;5;124;43mjcLtlXk09OHdNjb1AdkjmC3rgmnD5dM8oukeYudNceBdzcgQ1UFL0I7zEJ+ok4mykJBvmWcM7TCH+ASt1ZedzQ==\u001B[39;49m\u001B[38;5;124;43m'\u001B[39;49m\u001B[43m}\u001B[49m\u001B[43m)\u001B[49m\n\nFile \u001B[0;32m/databricks/python_shell/dbruntime/dbutils.py:362\u001B[0m, in \u001B[0;36mDBUtils.FSHandler.prettify_exception_message.<locals>.f_with_exception_handling\u001B[0;34m(*args, **kwargs)\u001B[0m\n\u001B[1;32m    360\u001B[0m exc\u001B[38;5;241m.\u001B[39m__context__ \u001B[38;5;241m=\u001B[39m \u001B[38;5;28;01mNone\u001B[39;00m\n\u001B[1;32m    361\u001B[0m exc\u001B[38;5;241m.\u001B[39m__cause__ \u001B[38;5;241m=\u001B[39m \u001B[38;5;28;01mNone\u001B[39;00m\n\u001B[0;32m--> 362\u001B[0m \u001B[38;5;28;01mraise\u001B[39;00m exc\n\n\u001B[0;31mExecutionError\u001B[0m: An error occurred while calling o375.mount.\n: java.rmi.RemoteException: java.lang.IllegalArgumentException: requirement failed: Directory already mounted: /mnt/energyclimatenexus; nested exception is: \n\tjava.lang.IllegalArgumentException: requirement failed: Directory already mounted: /mnt/energyclimatenexus\n\tat com.databricks.backend.daemon.data.client.DbfsClient.send0(DbfsClient.scala:135)\n\tat com.databricks.backend.daemon.data.client.DbfsClient.sendIdempotent(DbfsClient.scala:69)\n\tat com.databricks.backend.daemon.dbutils.DBUtilsCore.createOrUpdateMount(DBUtilsCore.scala:1025)\n\tat com.databricks.backend.daemon.dbutils.DBUtilsCore.$anonfun$mount$1(DBUtilsCore.scala:1051)\n\tat com.databricks.logging.UsageLogging.$anonfun$recordOperation$1(UsageLogging.scala:557)\n\tat com.databricks.logging.UsageLogging.executeThunkAndCaptureResultTags$1(UsageLogging.scala:652)\n\tat com.databricks.logging.UsageLogging.$anonfun$recordOperationWithResultTags$4(UsageLogging.scala:673)\n\tat com.databricks.logging.UsageLogging.$anonfun$withAttributionContext$1(UsageLogging.scala:414)\n\tat scala.util.DynamicVariable.withValue(DynamicVariable.scala:62)\n\tat com.databricks.logging.AttributionContext$.withValue(AttributionContext.scala:158)\n\tat com.databricks.logging.UsageLogging.withAttributionContext(UsageLogging.scala:412)\n\tat com.databricks.logging.UsageLogging.withAttributionContext$(UsageLogging.scala:409)\n\tat com.databricks.backend.daemon.dbutils.FSUtils.withAttributionContext(DBUtilsCore.scala:69)\n\tat com.databricks.logging.UsageLogging.withAttributionTags(UsageLogging.scala:457)\n\tat com.databricks.logging.UsageLogging.withAttributionTags$(UsageLogging.scala:442)\n\tat com.databricks.backend.daemon.dbutils.FSUtils.withAttributionTags(DBUtilsCore.scala:69)\n\tat com.databricks.logging.UsageLogging.recordOperationWithResultTags(UsageLogging.scala:647)\n\tat com.databricks.logging.UsageLogging.recordOperationWithResultTags$(UsageLogging.scala:566)\n\tat com.databricks.backend.daemon.dbutils.FSUtils.recordOperationWithResultTags(DBUtilsCore.scala:69)\n\tat com.databricks.logging.UsageLogging.recordOperation(UsageLogging.scala:557)\n\tat com.databricks.logging.UsageLogging.recordOperation$(UsageLogging.scala:527)\n\tat com.databricks.backend.daemon.dbutils.FSUtils.recordOperation(DBUtilsCore.scala:69)\n\tat com.databricks.backend.daemon.dbutils.FSUtils.recordDbutilsFsOp(DBUtilsCore.scala:133)\n\tat com.databricks.backend.daemon.dbutils.DBUtilsCore.mount(DBUtilsCore.scala:1045)\n\tat sun.reflect.NativeMethodAccessorImpl.invoke0(Native Method)\n\tat sun.reflect.NativeMethodAccessorImpl.invoke(NativeMethodAccessorImpl.java:62)\n\tat sun.reflect.DelegatingMethodAccessorImpl.invoke(DelegatingMethodAccessorImpl.java:43)\n\tat java.lang.reflect.Method.invoke(Method.java:498)\n\tat py4j.reflection.MethodInvoker.invoke(MethodInvoker.java:244)\n\tat py4j.reflection.ReflectionEngine.invoke(ReflectionEngine.java:380)\n\tat py4j.Gateway.invoke(Gateway.java:306)\n\tat py4j.commands.AbstractCommand.invokeMethod(AbstractCommand.java:132)\n\tat py4j.commands.CallCommand.execute(CallCommand.java:79)\n\tat py4j.ClientServerConnection.waitForCommands(ClientServerConnection.java:195)\n\tat py4j.ClientServerConnection.run(ClientServerConnection.java:115)\n\tat java.lang.Thread.run(Thread.java:750)\nCaused by: java.lang.IllegalArgumentException: requirement failed: Directory already mounted: /mnt/energyclimatenexus\n\tat scala.Predef$.require(Predef.scala:281)\n\tat com.databricks.backend.daemon.data.server.DefaultMetadataManager.$anonfun$insertMount$1(MetadataManager.scala:656)\n\tat com.databricks.backend.daemon.data.server.DefaultMetadataManager.$anonfun$modifyAndVerify$2(MetadataManager.scala:1032)\n\tat scala.runtime.java8.JFunction0$mcV$sp.apply(JFunction0$mcV$sp.java:23)\n\tat com.databricks.backend.daemon.data.server.DefaultMetadataManager.withRetries(MetadataManager.scala:805)\n\tat com.databricks.backend.daemon.data.server.DefaultMetadataManager.modifyAndVerify(MetadataManager.scala:1021)\n\tat com.databricks.backend.daemon.data.server.DefaultMetadataManager.insertMount(MetadataManager.scala:664)\n\tat com.databricks.backend.daemon.data.server.handler.MountHandler.receive(MountHandler.scala:128)\n\tat com.databricks.backend.daemon.data.server.handler.CEMountHandler.receive(MountHandler.scala:172)\n\tat com.databricks.backend.daemon.data.server.session.SessionContext.$anonfun$queryHandlers$1(SessionContext.scala:54)\n\tat com.databricks.backend.daemon.data.server.session.SessionContext.$anonfun$queryHandlers$1$adapted(SessionContext.scala:53)\n\tat scala.collection.immutable.List.foreach(List.scala:431)\n\tat com.databricks.backend.daemon.data.server.session.SessionContext.queryHandlers(SessionContext.scala:53)\n\tat com.databricks.backend.daemon.data.server.DbfsServerBackend$$anonfun$receive$4.$anonfun$applyOrElse$9(DbfsServerBackend.scala:386)\n\tat com.databricks.logging.UsageLogging.$anonfun$withAttributionContext$1(UsageLogging.scala:426)\n\tat scala.util.DynamicVariable.withValue(DynamicVariable.scala:62)\n\tat com.databricks.logging.AttributionContext$.withValue(AttributionContext.scala:216)\n\tat com.databricks.logging.UsageLogging.withAttributionContext(UsageLogging.scala:424)\n\tat com.databricks.logging.UsageLogging.withAttributionContext$(UsageLogging.scala:418)\n\tat com.databricks.rpc.ServerBackend.withAttributionContext(ServerBackend.scala:22)\n\tat com.databricks.logging.UsageLogging.withAttributionTags(UsageLogging.scala:472)\n\tat com.databricks.logging.UsageLogging.withAttributionTags$(UsageLogging.scala:455)\n\tat com.databricks.rpc.ServerBackend.withAttributionTags(ServerBackend.scala:22)\n\tat com.databricks.backend.daemon.data.server.DbfsServerBackend$$anonfun$receive$4.applyOrElse(DbfsServerBackend.scala:386)\n\tat com.databricks.backend.daemon.data.server.DbfsServerBackend$$anonfun$receive$4.applyOrElse(DbfsServerBackend.scala:326)\n\tat com.databricks.rpc.ServerBackend.$anonfun$internalReceive0$2(ServerBackend.scala:174)\n\tat com.databricks.rpc.ServerBackend$$anonfun$commonReceive$1.applyOrElse(ServerBackend.scala:200)\n\tat com.databricks.rpc.ServerBackend$$anonfun$commonReceive$1.applyOrElse(ServerBackend.scala:200)\n\tat com.databricks.rpc.ServerBackend.internalReceive0(ServerBackend.scala:171)\n\tat com.databricks.rpc.ServerBackend.$anonfun$internalReceive$1(ServerBackend.scala:147)\n\tat com.databricks.logging.UsageLogging.$anonfun$recordOperation$1(UsageLogging.scala:573)\n\tat com.databricks.logging.UsageLogging.executeThunkAndCaptureResultTags$1(UsageLogging.scala:668)\n\tat com.databricks.logging.UsageLogging.$anonfun$recordOperationWithResultTags$4(UsageLogging.scala:686)\n\tat com.databricks.logging.UsageLogging.$anonfun$withAttributionContext$1(UsageLogging.scala:426)\n\tat scala.util.DynamicVariable.withValue(DynamicVariable.scala:62)\n\tat com.databricks.logging.AttributionContext$.withValue(AttributionContext.scala:216)\n\tat com.databricks.logging.UsageLogging.withAttributionContext(UsageLogging.scala:424)\n\tat com.databricks.logging.UsageLogging.withAttributionContext$(UsageLogging.scala:418)\n\tat com.databricks.rpc.ServerBackend.withAttributionContext(ServerBackend.scala:22)\n\tat com.databricks.logging.UsageLogging.withAttributionTags(UsageLogging.scala:472)\n\tat com.databricks.logging.UsageLogging.withAttributionTags$(UsageLogging.scala:455)\n\tat com.databricks.rpc.ServerBackend.withAttributionTags(ServerBackend.scala:22)\n\tat com.databricks.logging.UsageLogging.recordOperationWithResultTags(UsageLogging.scala:663)\n\tat com.databricks.logging.UsageLogging.recordOperationWithResultTags$(UsageLogging.scala:582)\n\tat com.databricks.rpc.ServerBackend.recordOperationWithResultTags(ServerBackend.scala:22)\n\tat com.databricks.logging.UsageLogging.recordOperation(UsageLogging.scala:573)\n\tat com.databricks.logging.UsageLogging.recordOperation$(UsageLogging.scala:542)\n\tat com.databricks.rpc.ServerBackend.recordOperation(ServerBackend.scala:22)\n\tat com.databricks.rpc.ServerBackend.internalReceive(ServerBackend.scala:147)\n\tat com.databricks.rpc.JettyServer$RequestManager.handleRPC(JettyServer.scala:1020)\n\tat com.databricks.rpc.JettyServer$RequestManager.handleRequestAndRespond(JettyServer.scala:941)\n\tat com.databricks.rpc.JettyServer$RequestManager.$anonfun$handleHttp$6(JettyServer.scala:545)\n\tat com.databricks.rpc.JettyServer$RequestManager.$anonfun$handleHttp$6$adapted(JettyServer.scala:514)\n\tat com.databricks.logging.activity.ActivityContextFactory$.$anonfun$withActivityInternal$4(ActivityContextFactory.scala:405)\n\tat com.databricks.logging.UsageLogging.$anonfun$withAttributionContext$1(UsageLogging.scala:426)\n\tat scala.util.DynamicVariable.withValue(DynamicVariable.scala:62)\n\tat com.databricks.logging.AttributionContext$.withValue(AttributionContext.scala:216)\n\tat com.databricks.logging.UsageLogging.withAttributionContext(UsageLogging.scala:424)\n\tat com.databricks.logging.UsageLogging.withAttributionContext$(UsageLogging.scala:418)\n\tat com.databricks.logging.activity.ActivityContextFactory$.withAttributionContext(ActivityContextFactory.scala:58)\n\tat com.databricks.logging.activity.ActivityContextFactory$.$anonfun$withActivityInternal$1(ActivityContextFactory.scala:405)\n\tat com.databricks.context.integrity.IntegrityCheckContext$ThreadLocalStorage$.withValue(IntegrityCheckContext.scala:44)\n\tat com.databricks.logging.activity.ActivityContextFactory$.withActivityInternal(ActivityContextFactory.scala:380)\n\tat com.databricks.logging.activity.ActivityContextFactory$.withServiceRequestActivity(ActivityContextFactory.scala:159)\n\tat com.databricks.rpc.JettyServer$RequestManager.handleHttp(JettyServer.scala:514)\n\tat com.databricks.rpc.JettyServer$RequestManager.doPost(JettyServer.scala:404)\n\tat javax.servlet.http.HttpServlet.service(HttpServlet.java:665)\n\tat com.databricks.rpc.HttpServletWithPatch.service(HttpServletWithPatch.scala:33)\n\tat javax.servlet.http.HttpServlet.service(HttpServlet.java:750)\n\tat org.eclipse.jetty.servlet.ServletHolder.handle(ServletHolder.java:799)\n\tat org.eclipse.jetty.servlet.ServletHandler.doHandle(ServletHandler.java:554)\n\tat org.eclipse.jetty.server.handler.ScopedHandler.nextScope(ScopedHandler.java:190)\n\tat org.eclipse.jetty.servlet.ServletHandler.doScope(ServletHandler.java:505)\n\tat org.eclipse.jetty.server.handler.ScopedHandler.handle(ScopedHandler.java:141)\n\tat org.eclipse.jetty.server.handler.HandlerWrapper.handle(HandlerWrapper.java:127)\n\tat org.eclipse.jetty.server.Server.handle(Server.java:516)\n\tat org.eclipse.jetty.server.HttpChannel.lambda$handle$1(HttpChannel.java:487)\n\tat org.eclipse.jetty.server.HttpChannel.dispatch(HttpChannel.java:732)\n\tat org.eclipse.jetty.server.HttpChannel.handle(HttpChannel.java:479)\n\tat org.eclipse.jetty.server.HttpConnection.onFillable(HttpConnection.java:277)\n\tat org.eclipse.jetty.io.AbstractConnection$ReadCallback.succeeded(AbstractConnection.java:311)\n\tat org.eclipse.jetty.io.FillInterest.fillable(FillInterest.java:105)\n\tat org.eclipse.jetty.io.ChannelEndPoint$1.run(ChannelEndPoint.java:104)\n\tat org.eclipse.jetty.util.thread.strategy.EatWhatYouKill.runTask(EatWhatYouKill.java:338)\n\tat org.eclipse.jetty.util.thread.strategy.EatWhatYouKill.doProduce(EatWhatYouKill.java:315)\n\tat org.eclipse.jetty.util.thread.strategy.EatWhatYouKill.tryProduce(EatWhatYouKill.java:173)\n\tat org.eclipse.jetty.util.thread.strategy.EatWhatYouKill.run(EatWhatYouKill.java:131)\n\tat org.eclipse.jetty.util.thread.ReservedThreadExecutor$ReservedThread.run(ReservedThreadExecutor.java:409)\n\tat com.databricks.rpc.InstrumentedQueuedThreadPool$$anon$1.$anonfun$run$4(InstrumentedQueuedThreadPool.scala:104)\n\tat scala.runtime.java8.JFunction0$mcV$sp.apply(JFunction0$mcV$sp.java:23)\n\tat com.databricks.logging.UsageLogging.$anonfun$withAttributionContext$1(UsageLogging.scala:426)\n\tat scala.util.DynamicVariable.withValue(DynamicVariable.scala:62)\n\tat com.databricks.logging.AttributionContext$.withValue(AttributionContext.scala:216)\n\tat com.databricks.logging.UsageLogging.withAttributionContext(UsageLogging.scala:424)\n\tat com.databricks.logging.UsageLogging.withAttributionContext$(UsageLogging.scala:418)\n\tat com.databricks.rpc.InstrumentedQueuedThreadPool.withAttributionContext(InstrumentedQueuedThreadPool.scala:47)\n\tat com.databricks.rpc.InstrumentedQueuedThreadPool$$anon$1.$anonfun$run$1(InstrumentedQueuedThreadPool.scala:104)\n\tat scala.runtime.java8.JFunction0$mcV$sp.apply(JFunction0$mcV$sp.java:23)\n\tat com.databricks.instrumentation.QueuedThreadPoolInstrumenter.trackActiveThreads(QueuedThreadPoolInstrumenter.scala:66)\n\tat com.databricks.instrumentation.QueuedThreadPoolInstrumenter.trackActiveThreads$(QueuedThreadPoolInstrumenter.scala:63)\n\tat com.databricks.rpc.InstrumentedQueuedThreadPool.trackActiveThreads(InstrumentedQueuedThreadPool.scala:47)\n\tat com.databricks.rpc.InstrumentedQueuedThreadPool$$anon$1.run(InstrumentedQueuedThreadPool.scala:86)\n\tat org.eclipse.jetty.util.thread.QueuedThreadPool.runJob(QueuedThreadPool.java:883)\n\tat org.eclipse.jetty.util.thread.QueuedThreadPool$Runner.run(QueuedThreadPool.java:1034)\n\tat java.lang.Thread.run(Thread.java:833)\n",
       "errorSummary": "java.rmi.RemoteException: java.lang.IllegalArgumentException: requirement failed: Directory already mounted: /mnt/energyclimatenexus; nested exception is: ",
       "errorTraceType": "ansi",
       "metadata": {},
       "type": "ipynbError"
      }
     },
     "output_type": "display_data"
    }
   ],
   "source": [
    "dbutils.fs.mount(\n",
    "source = 'wasbs://energy-climate-data@energyclimatedata.blob.core.windows.net', # contrainer@storageacc\n",
    "mount_point = '/mnt/energyclimatenexus',\n",
    "extra_configs = {'fs.azure.account.key.energyclimatedata.blob.core.windows.net':'jcLtlXk09OHdNjb1AdkjmC3rgmnD5dM8oukeYudNceBdzcgQ1UFL0I7zEJ+ok4mykJBvmWcM7TCH+ASt1ZedzQ=='})\n"
   ]
  },
  {
   "cell_type": "code",
   "execution_count": 0,
   "metadata": {
    "application/vnd.databricks.v1+cell": {
     "cellMetadata": {
      "byteLimit": 2048000,
      "rowLimit": 10000
     },
     "inputWidgets": {},
     "nuid": "9aa02d4b-3fe7-4ee9-9455-4bae2aca9db6",
     "showTitle": false,
     "title": ""
    }
   },
   "outputs": [
    {
     "output_type": "stream",
     "name": "stdout",
     "output_type": "stream",
     "text": [
      "Out[1]: [FileInfo(path='dbfs:/mnt/energyclimatenexus/Raw_data/CO2_emissions_data.csv', name='CO2_emissions_data.csv', size=3418932, modificationTime=1696016069000),\n FileInfo(path='dbfs:/mnt/energyclimatenexus/Raw_data/climate_data.csv', name='climate_data.csv', size=135844, modificationTime=1696016052000),\n FileInfo(path='dbfs:/mnt/energyclimatenexus/Raw_data/non_ren_energy.csv', name='non_ren_energy.csv', size=11017751, modificationTime=1696016038000),\n FileInfo(path='dbfs:/mnt/energyclimatenexus/Raw_data/ren_energy.csv', name='ren_energy.csv', size=7763966, modificationTime=1696016014000)]"
     ]
    }
   ],
   "source": [
    "dbutils.fs.ls('/mnt/energyclimatenexus/Raw_data')\n",
    "#dbutils.fs.unmount('/mnt/energyclimatenexus')"
   ]
  },
  {
   "cell_type": "code",
   "execution_count": 0,
   "metadata": {
    "application/vnd.databricks.v1+cell": {
     "cellMetadata": {
      "byteLimit": 2048000,
      "rowLimit": 10000
     },
     "inputWidgets": {},
     "nuid": "fc78ed3f-6ad5-4ec5-9678-2dad6e251b8d",
     "showTitle": false,
     "title": ""
    }
   },
   "outputs": [
    {
     "output_type": "display_data",
     "data": {
      "text/html": [
       "\n",
       "            <div>\n",
       "                <p><b>SparkSession - hive</b></p>\n",
       "                \n",
       "        <div>\n",
       "            <p><b>SparkContext</b></p>\n",
       "\n",
       "            <p><a href=\"/?o=722373954826934#setting/sparkui/0103-172441-7x0s0ihl/driver-5812818105637640527\">Spark UI</a></p>\n",
       "\n",
       "            <dl>\n",
       "              <dt>Version</dt>\n",
       "                <dd><code>v3.3.2</code></dd>\n",
       "              <dt>Master</dt>\n",
       "                <dd><code>local[8]</code></dd>\n",
       "              <dt>AppName</dt>\n",
       "                <dd><code>Databricks Shell</code></dd>\n",
       "            </dl>\n",
       "        </div>\n",
       "        \n",
       "            </div>\n",
       "        "
      ]
     },
     "metadata": {
      "application/vnd.databricks.v1+output": {
       "addedWidgets": {},
       "arguments": {},
       "data": "\n            <div>\n                <p><b>SparkSession - hive</b></p>\n                \n        <div>\n            <p><b>SparkContext</b></p>\n\n            <p><a href=\"/?o=722373954826934#setting/sparkui/0103-172441-7x0s0ihl/driver-5812818105637640527\">Spark UI</a></p>\n\n            <dl>\n              <dt>Version</dt>\n                <dd><code>v3.3.2</code></dd>\n              <dt>Master</dt>\n                <dd><code>local[8]</code></dd>\n              <dt>AppName</dt>\n                <dd><code>Databricks Shell</code></dd>\n            </dl>\n        </div>\n        \n            </div>\n        ",
       "datasetInfos": [],
       "metadata": {},
       "removedWidgets": [],
       "textData": null,
       "type": "htmlSandbox"
      }
     },
     "output_type": "display_data"
    }
   ],
   "source": [
    "spark"
   ]
  },
  {
   "cell_type": "code",
   "execution_count": 0,
   "metadata": {
    "application/vnd.databricks.v1+cell": {
     "cellMetadata": {
      "byteLimit": 2048000,
      "rowLimit": 10000
     },
     "inputWidgets": {},
     "nuid": "bddfe8b9-a230-424f-83c1-f3fb84cffac7",
     "showTitle": true,
     "title": "Non renewable energy data"
    }
   },
   "outputs": [
    {
     "output_type": "stream",
     "name": "stdout",
     "output_type": "stream",
     "text": [
      "Out[4]: 93130"
     ]
    }
   ],
   "source": [
    "df_nre = spark.read.csv(\"dbfs:/mnt/energyclimatenexus/Raw_data/non_ren_energy.csv\", header=True, inferSchema=True)\n",
    "df_nre.count()"
   ]
  },
  {
   "cell_type": "code",
   "execution_count": 0,
   "metadata": {
    "application/vnd.databricks.v1+cell": {
     "cellMetadata": {
      "byteLimit": 2048000,
      "rowLimit": 10000
     },
     "inputWidgets": {},
     "nuid": "650ecd25-7449-4752-b30b-741a87b987aa",
     "showTitle": false,
     "title": ""
    }
   },
   "outputs": [
    {
     "output_type": "stream",
     "name": "stdout",
     "output_type": "stream",
     "text": [
      "+------+--------+--------------------+-------+--------------------+-----+--------------------+\n|period|seriesId|   seriesDescription|stateId|    stateDescription|value|                unit|\n+------+--------+--------------------+-------+--------------------+-----+--------------------+\n|  2021|   PACCD|All petroleum pro...|     AK|              Alaska|19.09|Dollars per milli...|\n|  2021|   PACCD|All petroleum pro...|     AL|             Alabama|19.46|Dollars per milli...|\n|  2021|   PACCD|All petroleum pro...|     AR|            Arkansas|19.47|Dollars per milli...|\n|  2021|   PACCD|All petroleum pro...|     AZ|             Arizona|24.07|Dollars per milli...|\n|  2021|   PACCD|All petroleum pro...|     CA|          California|27.58|Dollars per milli...|\n|  2021|   PACCD|All petroleum pro...|     CO|            Colorado| 22.3|Dollars per milli...|\n|  2021|   PACCD|All petroleum pro...|     CT|         Connecticut|20.86|Dollars per milli...|\n|  2021|   PACCD|All petroleum pro...|     DE|            Delaware|20.39|Dollars per milli...|\n|  2021|   PACCD|All petroleum pro...|     DC|District of Columbia|20.61|Dollars per milli...|\n|  2021|   PACCD|All petroleum pro...|     FL|             Florida|21.02|Dollars per milli...|\n|  2021|   PACCD|All petroleum pro...|     GA|             Georgia|19.91|Dollars per milli...|\n|  2021|   PACCD|All petroleum pro...|     HI|              Hawaii|24.25|Dollars per milli...|\n|  2021|   PACCD|All petroleum pro...|     ID|               Idaho| 22.5|Dollars per milli...|\n|  2021|   PACCD|All petroleum pro...|     IL|            Illinois|20.88|Dollars per milli...|\n|  2021|   PACCD|All petroleum pro...|     IN|             Indiana|20.39|Dollars per milli...|\n|  2021|   PACCD|All petroleum pro...|     IA|                Iowa|18.78|Dollars per milli...|\n|  2021|   PACCD|All petroleum pro...|     KS|              Kansas|20.31|Dollars per milli...|\n|  2021|   PACCD|All petroleum pro...|     KY|            Kentucky|20.23|Dollars per milli...|\n|  2021|   PACCD|All petroleum pro...|     LA|           Louisiana|19.58|Dollars per milli...|\n|  2021|   PACCD|All petroleum pro...|     ME|               Maine|19.85|Dollars per milli...|\n+------+--------+--------------------+-------+--------------------+-----+--------------------+\nonly showing top 20 rows\n\n"
     ]
    }
   ],
   "source": [
    "df_nre.show()"
   ]
  },
  {
   "cell_type": "code",
   "execution_count": 0,
   "metadata": {
    "application/vnd.databricks.v1+cell": {
     "cellMetadata": {
      "byteLimit": 2048000,
      "rowLimit": 10000
     },
     "inputWidgets": {},
     "nuid": "241456ca-530b-4a58-9cfc-f2f762487cbc",
     "showTitle": false,
     "title": ""
    }
   },
   "outputs": [
    {
     "output_type": "stream",
     "name": "stdout",
     "output_type": "stream",
     "text": [
      "+-------+------------------+--------+--------------------+-------+----------------+-----------------+-------------------+\n|summary|            period|seriesId|   seriesDescription|stateId|stateDescription|            value|               unit|\n+-------+------------------+--------+--------------------+-------+----------------+-----------------+-------------------+\n|  count|             93130|   93130|               93130|  93130|           93130|            93130|              93130|\n|   mean|2010.5310318909053|    null|                null|   null|            null|62526.55142628601|               null|\n| stddev| 6.321463575526689|    null|                null|   null|            null|267997.6422437851|               null|\n|    min|              2000|   CLACB|All petroleum pro...|     AK|         Alabama|              0.0|            Barrels|\n|    max|              2021|   PATPP|Nuclear fuel tota...|     WY|         Wyoming|        8087435.0|Thousand short tons|\n+-------+------------------+--------+--------------------+-------+----------------+-----------------+-------------------+\n\n"
     ]
    }
   ],
   "source": [
    "df_nre.describe().show()"
   ]
  },
  {
   "cell_type": "code",
   "execution_count": 0,
   "metadata": {
    "application/vnd.databricks.v1+cell": {
     "cellMetadata": {
      "byteLimit": 2048000,
      "rowLimit": 10000
     },
     "inputWidgets": {},
     "nuid": "fbd54923-ae36-41b0-8529-e7fc53db692c",
     "showTitle": false,
     "title": ""
    }
   },
   "outputs": [
    {
     "output_type": "stream",
     "name": "stdout",
     "output_type": "stream",
     "text": [
      "root\n |-- period: integer (nullable = true)\n |-- seriesId: string (nullable = true)\n |-- seriesDescription: string (nullable = true)\n |-- stateId: string (nullable = true)\n |-- stateDescription: string (nullable = true)\n |-- value: double (nullable = true)\n |-- unit: string (nullable = true)\n\n"
     ]
    }
   ],
   "source": [
    "df_nre.printSchema()"
   ]
  },
  {
   "cell_type": "code",
   "execution_count": 0,
   "metadata": {
    "application/vnd.databricks.v1+cell": {
     "cellMetadata": {
      "byteLimit": 2048000,
      "rowLimit": 10000
     },
     "inputWidgets": {},
     "nuid": "755b8ae7-5117-4aa2-9629-f7eeaa33e7cb",
     "showTitle": true,
     "title": "check for Null and duplicates"
    }
   },
   "outputs": [
    {
     "output_type": "stream",
     "name": "stdout",
     "output_type": "stream",
     "text": [
      "+------+--------+-----------------+-------+----------------+-----+----+\n|period|seriesId|seriesDescription|stateId|stateDescription|value|unit|\n+------+--------+-----------------+-------+----------------+-----+----+\n|     0|       0|                0|      0|               0|    0|   0|\n+------+--------+-----------------+-------+----------------+-----+----+\n\n"
     ]
    }
   ],
   "source": [
    "#Check Nulls in a DF\n",
    "from pyspark.sql.functions import col,isnan, when, count\n",
    "df_nre.select([count(when(isnan(c) | col(c).isNull(), c)).alias(c) for c in df_nre.columns]\n",
    "   ).show()\n",
    "#df=spark.sql(\"select * from nre where coalesce(period,seriesId,seriesDescription,stateId,stateDescription,value,unit) is null\")\n",
    "#df.count()"
   ]
  },
  {
   "cell_type": "code",
   "execution_count": 0,
   "metadata": {
    "application/vnd.databricks.v1+cell": {
     "cellMetadata": {
      "byteLimit": 2048000,
      "rowLimit": 10000
     },
     "inputWidgets": {},
     "nuid": "1158f560-17cd-483d-a3b5-15e9dd63c07d",
     "showTitle": false,
     "title": ""
    }
   },
   "outputs": [
    {
     "output_type": "stream",
     "name": "stdout",
     "output_type": "stream",
     "text": [
      "Out[9]: 0"
     ]
    }
   ],
   "source": [
    "#Check the duplicates\n",
    "df_nre.createOrReplaceTempView(\"nre\")\n",
    "spark.sql(\"select * from nre group by all having count(*)>1\").count()\n"
   ]
  },
  {
   "cell_type": "code",
   "execution_count": 0,
   "metadata": {
    "application/vnd.databricks.v1+cell": {
     "cellMetadata": {
      "byteLimit": 2048000,
      "rowLimit": 10000
     },
     "inputWidgets": {},
     "nuid": "be726679-b7df-4a0e-8798-802d58812694",
     "showTitle": true,
     "title": "Remove Nulls and Duplicates if exists"
    }
   },
   "outputs": [
    {
     "output_type": "stream",
     "name": "stdout",
     "output_type": "stream",
     "text": [
      "Out[10]: 92004"
     ]
    }
   ],
   "source": [
    "#Drop Duplicates\n",
    "df_nre=df_nre.dropDuplicates()\n",
    "df_nre.count()"
   ]
  },
  {
   "cell_type": "code",
   "execution_count": 0,
   "metadata": {
    "application/vnd.databricks.v1+cell": {
     "cellMetadata": {
      "byteLimit": 2048000,
      "rowLimit": 10000
     },
     "inputWidgets": {},
     "nuid": "0e150796-4f95-4b07-8001-919796d64590",
     "showTitle": true,
     "title": "Filter to get Unique Unit per KPI"
    }
   },
   "outputs": [
    {
     "output_type": "stream",
     "name": "stdout",
     "output_type": "stream",
     "text": [
      "+--------------------+\n|                unit|\n+--------------------+\n|         Billion Btu|\n|Dollars per milli...|\n|Million kilowatth...|\n|     Million dollars|\n|         Million Btu|\n+--------------------+\n\nOut[13]: 68442"
     ]
    }
   ],
   "source": [
    "\n",
    "# List of values to filter on\n",
    "values_to_filter = ['Billion Btu', 'Dollars per million Btu', 'Million Btu','Million dollars','Million kilowatthours']\n",
    "\n",
    "# Applying the filter\n",
    "filtered_df_nre = df_nre.filter(col('unit').isin(values_to_filter))\n",
    "\n",
    "# Show the filtered DataFrame\n",
    "filtered_df_nre.select('unit').distinct().show()\n",
    "filtered_df_nre.count()"
   ]
  },
  {
   "cell_type": "code",
   "execution_count": 0,
   "metadata": {
    "application/vnd.databricks.v1+cell": {
     "cellMetadata": {
      "byteLimit": 2048000,
      "rowLimit": 10000
     },
     "inputWidgets": {},
     "nuid": "3ec0082c-c7fb-4717-800e-66a161cef1fc",
     "showTitle": true,
     "title": "Generate sector, energy_source and type columns based on series Description"
    }
   },
   "outputs": [
    {
     "output_type": "stream",
     "name": "stdout",
     "output_type": "stream",
     "text": [
      "+------+--------+--------------------+-------+--------------------+-----+--------------------+----------+--------------------+-------------+---------+\n|period|seriesId|   seriesDescription|stateId|    stateDescription|value|                unit|    sector|       energy_source|         type|  regions|\n+------+--------+--------------------+-------+--------------------+-----+--------------------+----------+--------------------+-------------+---------+\n|  2021|   PACCD|All petroleum pro...|     LA|           Louisiana|19.58|Dollars per milli...|Commercial|All Petroleum Pro...|Average Price|    South|\n|  2021|   PACCD|All petroleum pro...|     AZ|             Arizona|24.07|Dollars per milli...|Commercial|All Petroleum Pro...|Average Price|     West|\n|  2021|   PACCD|All petroleum pro...|     ID|               Idaho| 22.5|Dollars per milli...|Commercial|All Petroleum Pro...|Average Price|     West|\n|  2021|   PACCD|All petroleum pro...|     ME|               Maine|19.85|Dollars per milli...|Commercial|All Petroleum Pro...|Average Price|Northeast|\n|  2021|   PACCD|All petroleum pro...|     HI|              Hawaii|24.25|Dollars per milli...|Commercial|All Petroleum Pro...|Average Price|     West|\n|  2021|   PACCD|All petroleum pro...|     KS|              Kansas|20.31|Dollars per milli...|Commercial|All Petroleum Pro...|Average Price|  Midwest|\n|  2021|   PACCD|All petroleum pro...|     IL|            Illinois|20.88|Dollars per milli...|Commercial|All Petroleum Pro...|Average Price|  Midwest|\n|  2021|   PACCD|All petroleum pro...|     DE|            Delaware|20.39|Dollars per milli...|Commercial|All Petroleum Pro...|Average Price|    South|\n|  2021|   PACCD|All petroleum pro...|     GA|             Georgia|19.91|Dollars per milli...|Commercial|All Petroleum Pro...|Average Price|    South|\n|  2021|   PACCD|All petroleum pro...|     MD|            Maryland|21.28|Dollars per milli...|Commercial|All Petroleum Pro...|Average Price|    South|\n|  2021|   PACCD|All petroleum pro...|     KY|            Kentucky|20.23|Dollars per milli...|Commercial|All Petroleum Pro...|Average Price|    South|\n|  2021|   PACCD|All petroleum pro...|     IA|                Iowa|18.78|Dollars per milli...|Commercial|All Petroleum Pro...|Average Price|  Midwest|\n|  2021|   PACCD|All petroleum pro...|     AR|            Arkansas|19.47|Dollars per milli...|Commercial|All Petroleum Pro...|Average Price|    South|\n|  2021|   PACCD|All petroleum pro...|     AL|             Alabama|19.46|Dollars per milli...|Commercial|All Petroleum Pro...|Average Price|    South|\n|  2021|   PACCD|All petroleum pro...|     CO|            Colorado| 22.3|Dollars per milli...|Commercial|All Petroleum Pro...|Average Price|     West|\n|  2021|   PACCD|All petroleum pro...|     DC|District of Columbia|20.61|Dollars per milli...|Commercial|All Petroleum Pro...|Average Price|    South|\n|  2021|   PACCD|All petroleum pro...|     FL|             Florida|21.02|Dollars per milli...|Commercial|All Petroleum Pro...|Average Price|    South|\n|  2021|   PACCD|All petroleum pro...|     CT|         Connecticut|20.86|Dollars per milli...|Commercial|All Petroleum Pro...|Average Price|Northeast|\n|  2021|   PACCD|All petroleum pro...|     CA|          California|27.58|Dollars per milli...|Commercial|All Petroleum Pro...|Average Price|     West|\n|  2021|   PACCD|All petroleum pro...|     IN|             Indiana|20.39|Dollars per milli...|Commercial|All Petroleum Pro...|Average Price|  Midwest|\n+------+--------+--------------------+-------+--------------------+-----+--------------------+----------+--------------------+-------------+---------+\nonly showing top 20 rows\n\nOut[14]: 68442"
     ]
    }
   ],
   "source": [
    "conditions_col1 = [\n",
    "    (col(\"seriesDescription\").contains(\"commercial\"), \"Commercial\"),\n",
    "    (col(\"seriesDescription\").contains(\"residential\"),\"Residential\"),\n",
    "    (col(\"seriesDescription\").contains(\"industrial\"), \"Industrial\"),\n",
    "    (col(\"seriesDescription\").contains(\"transportation\"), \"Transportation\"),\n",
    "    (col(\"seriesDescription\").contains(\"electric power\"), \"Electric Power\"),\n",
    "    (col(\"seriesDescription\").contains(\"total\"), \"All Sectors\"),\n",
    "    (col(\"seriesDescription\").contains(\"all sectors\"), \"All Sectors\")\n",
    "    # Add more conditions for col1 as needed\n",
    "]\n",
    "\n",
    "conditions_col2 = [\n",
    "    (col(\"seriesDescription\").contains(\"petrol\"), \"All Petroleum Products\"),\n",
    "    (col(\"seriesDescription\").contains(\"Natural\"), \"Natural Gas\"),\n",
    "    (col(\"seriesDescription\").contains(\"Coal\"), \"Coal\"),\n",
    "    (col(\"seriesDescription\").contains(\"Nuclear\"), \"Nuclear\")\n",
    "    # Add more conditions for col2 as needed\n",
    "]\n",
    "\n",
    "conditions_col3 = [\n",
    "    (col(\"seriesDescription\").contains(\"price\"), \"Average Price\"),\n",
    "    (col(\"seriesDescription\").contains(\"consumption per capita\"), \"Consumption per capita\"),\n",
    "    (col(\"seriesDescription\").contains(\"consum\"), \"Consumption\"),\n",
    "    (col(\"seriesDescription\").contains(\"expenditure\"), \"Expenditure\"),\n",
    "    (col(\"seriesDescription\").contains(\"production\"), \"Production\"),\n",
    "    (col(\"seriesDescription\").contains(\"generation\"), \"Generation\"),\n",
    "    # Add more conditions for col2 as needed\n",
    "]\n",
    "\n",
    "conditions_col4 = [\n",
    "    (col(\"stateDescription\").isin(\"Connecticut\", \"Maine\", \"Massachusetts\", \"New Hampshire\", \"New Jersey\",\n",
    "                        \"New York\", \"Pennsylvania\", \"Rhode Island\", \"Vermont\"), \"Northeast\"),\n",
    "    (col(\"stateDescription\").isin(\"Illinois\", \"Indiana\", \"Iowa\", \"Kansas\", \"Michigan\", \"Minnesota\",\n",
    "                        \"Missouri\", \"Nebraska\", \"North Dakota\", \"Ohio\", \"South Dakota\", \"Wisconsin\"), \"Midwest\"),\n",
    "    (col(\"stateDescription\").isin(\"Alabama\", \"Arkansas\", \"Delaware\", \"District of Columbia\", \"Florida\", \"Georgia\",\n",
    "                        \"Kentucky\", \"Louisiana\", \"Maryland\", \"Mississippi\", \"North Carolina\", \"Oklahoma\",\n",
    "                        \"South Carolina\", \"Tennessee\", \"Texas\", \"Virginia\", \"West Virginia\"), \"South\"),\n",
    "    (col(\"stateDescription\").isin(\"Alaska\", \"Arizona\", \"California\", \"Colorado\", \"Hawaii\", \"Idaho\", \"Montana\",\n",
    "                        \"Nevada\", \"New Mexico\", \"Oregon\", \"Utah\", \"Washington\", \"Wyoming\"), \"West\")\n",
    "]\n",
    "\n",
    "result_df_nre = filtered_df_nre \\\n",
    "    .withColumn(\"sector\", \n",
    "                when(conditions_col1[0][0], conditions_col1[0][1])\n",
    "                .when(conditions_col1[1][0], conditions_col1[1][1])\n",
    "                .when(conditions_col1[2][0], conditions_col1[2][1])\n",
    "                .when(conditions_col1[3][0], conditions_col1[3][1])\n",
    "                .when(conditions_col1[4][0], conditions_col1[4][1])\n",
    "                .when(conditions_col1[5][0], conditions_col1[5][1])\n",
    "                .when(conditions_col1[6][0], conditions_col1[6][1])\n",
    "                .otherwise(\"All Sectors\")) \\\n",
    "    .withColumn(\"energy_source\", \n",
    "                when(conditions_col2[0][0], conditions_col2[0][1])\n",
    "                .when(conditions_col2[1][0], conditions_col2[1][1])\n",
    "                .when(conditions_col2[2][0], conditions_col2[2][1])\n",
    "                .when(conditions_col2[3][0], conditions_col2[3][1])\n",
    "                .otherwise(\"na\")) \\\n",
    "    .withColumn(\"type\", \n",
    "                when(conditions_col3[0][0], conditions_col3[0][1])\n",
    "                .when(conditions_col3[1][0], conditions_col3[1][1])\n",
    "                .when(conditions_col3[2][0], conditions_col3[2][1])\n",
    "                .when(conditions_col3[3][0], conditions_col3[3][1])\n",
    "                .when(conditions_col3[4][0], conditions_col3[4][1])\n",
    "                .when(conditions_col3[5][0], conditions_col3[5][1])\n",
    "                .otherwise(\"na\")) \\\n",
    "    .withColumn(\"regions\", \n",
    "                when(conditions_col4[0][0], conditions_col4[0][1])\n",
    "                .when(conditions_col4[1][0], conditions_col4[1][1])\n",
    "                .when(conditions_col4[2][0], conditions_col4[2][1])\n",
    "                .when(conditions_col4[3][0], conditions_col4[3][1])\n",
    "                .otherwise(\"Other\"))\n",
    "\n",
    "result_df_nre.show()\n",
    "result_df_nre.count()"
   ]
  },
  {
   "cell_type": "code",
   "execution_count": 0,
   "metadata": {
    "application/vnd.databricks.v1+cell": {
     "cellMetadata": {
      "byteLimit": 2048000,
      "rowLimit": 10000
     },
     "inputWidgets": {},
     "nuid": "d65daa79-9c58-4aa6-895e-c480d459b94c",
     "showTitle": false,
     "title": ""
    }
   },
   "outputs": [],
   "source": [
    "from pyspark.sql.functions import col,isnan, when, count\n",
    "result_df_nre.select([count(when(isnan(c) | col(c).isNull(), c)).alias(c) for c in result_df_nre.columns]\n",
    "   ).show()"
   ]
  },
  {
   "cell_type": "code",
   "execution_count": 0,
   "metadata": {
    "application/vnd.databricks.v1+cell": {
     "cellMetadata": {
      "byteLimit": 2048000,
      "rowLimit": 10000
     },
     "inputWidgets": {},
     "nuid": "31b2850f-0313-4ea6-9e32-b68b9c7cfe7f",
     "showTitle": false,
     "title": ""
    }
   },
   "outputs": [],
   "source": [
    "distinct_values = result_df_nre.select('sector', 'energy_source', 'type').distinct().orderBy('sector','energy_source','type')\n",
    "distinct_values.show(200)"
   ]
  },
  {
   "cell_type": "code",
   "execution_count": 0,
   "metadata": {
    "application/vnd.databricks.v1+cell": {
     "cellMetadata": {
      "byteLimit": 2048000,
      "rowLimit": 10000
     },
     "inputWidgets": {},
     "nuid": "41ab2760-df00-479e-bd62-36abea0ffc0b",
     "showTitle": false,
     "title": ""
    }
   },
   "outputs": [
    {
     "output_type": "stream",
     "name": "stdout",
     "output_type": "stream",
     "text": [
      "+--------------------+--------------------+\n|                type|                unit|\n+--------------------+--------------------+\n|       Average Price|Dollars per milli...|\n|         Consumption|         Billion Btu|\n|Consumption per c...|         Million Btu|\n|         Expenditure|     Million dollars|\n|          Generation|Million kilowatth...|\n|          Production|         Billion Btu|\n+--------------------+--------------------+\n\n"
     ]
    }
   ],
   "source": [
    "distinct_values = result_df_nre.select( 'type','unit').distinct().orderBy('type','unit')\n",
    "distinct_values.show(200)"
   ]
  },
  {
   "cell_type": "code",
   "execution_count": 0,
   "metadata": {
    "application/vnd.databricks.v1+cell": {
     "cellMetadata": {
      "byteLimit": 2048000,
      "rowLimit": 10000
     },
     "inputWidgets": {},
     "nuid": "b1434f19-8e68-430b-bef5-bff54d419f5d",
     "showTitle": false,
     "title": ""
    }
   },
   "outputs": [],
   "source": [
    "result_df_nre.coalesce(1).write.mode(\"overwrite\").option(\"header\",'true').csv(\"/mnt/energyclimatenexus/Transformed_data/nre\")"
   ]
  },
  {
   "cell_type": "code",
   "execution_count": 0,
   "metadata": {
    "application/vnd.databricks.v1+cell": {
     "cellMetadata": {
      "byteLimit": 2048000,
      "rowLimit": 10000
     },
     "inputWidgets": {},
     "nuid": "7522d767-fc53-456b-9515-aa61ca24ac89",
     "showTitle": true,
     "title": "Renewable Energy Data"
    }
   },
   "outputs": [
    {
     "output_type": "stream",
     "name": "stdout",
     "output_type": "stream",
     "text": [
      "Out[16]: 70482"
     ]
    }
   ],
   "source": [
    "df_re = spark.read.csv(\"dbfs:/mnt/energyclimatenexus/Raw_data/ren_energy.csv\", header=True, inferSchema=True)\n",
    "df_re.count()"
   ]
  },
  {
   "cell_type": "code",
   "execution_count": 0,
   "metadata": {
    "application/vnd.databricks.v1+cell": {
     "cellMetadata": {
      "byteLimit": 2048000,
      "rowLimit": 10000
     },
     "inputWidgets": {},
     "nuid": "38a2948f-6f45-440b-8d34-5a97a04641d3",
     "showTitle": false,
     "title": ""
    }
   },
   "outputs": [
    {
     "output_type": "stream",
     "name": "stdout",
     "output_type": "stream",
     "text": [
      "+------+--------+-------------------+-------+--------------------+-------+----------------+\n|period|seriesId|  seriesDescription|stateId|    stateDescription|  value|            unit|\n+------+--------+-------------------+-------+--------------------+-------+----------------+\n|  2021|   BFPRP|Biofuels production|     AK|              Alaska|    0.0|Thousand barrels|\n|  2021|   BFPRB|Biofuels production|     AK|              Alaska|    0.0|     Billion Btu|\n|  2021|   BFPRP|Biofuels production|     AL|             Alabama|  297.0|Thousand barrels|\n|  2021|   BFPRB|Biofuels production|     AL|             Alabama| 1615.0|     Billion Btu|\n|  2021|   BFPRB|Biofuels production|     AR|            Arkansas| 6058.0|     Billion Btu|\n|  2021|   BFPRP|Biofuels production|     AR|            Arkansas| 1115.0|Thousand barrels|\n|  2021|   BFPRP|Biofuels production|     AZ|             Arizona|    0.0|Thousand barrels|\n|  2021|   BFPRB|Biofuels production|     AZ|             Arizona|    0.0|     Billion Btu|\n|  2021|   BFPRP|Biofuels production|     CA|          California| 6614.0|Thousand barrels|\n|  2021|   BFPRB|Biofuels production|     CA|          California|36702.0|     Billion Btu|\n|  2021|   BFPRP|Biofuels production|     CO|            Colorado| 3382.0|Thousand barrels|\n|  2021|   BFPRB|Biofuels production|     CO|            Colorado|19206.0|     Billion Btu|\n|  2021|   BFPRP|Biofuels production|     CT|         Connecticut|  559.0|Thousand barrels|\n|  2021|   BFPRB|Biofuels production|     CT|         Connecticut| 3035.0|     Billion Btu|\n|  2021|   BFPRB|Biofuels production|     DE|            Delaware|    0.0|     Billion Btu|\n|  2021|   BFPRP|Biofuels production|     DE|            Delaware|    0.0|Thousand barrels|\n|  2021|   BFPRP|Biofuels production|     DC|District of Columbia|    0.0|Thousand barrels|\n|  2021|   BFPRB|Biofuels production|     DC|District of Columbia|    0.0|     Billion Btu|\n|  2021|   BFPRP|Biofuels production|     FL|             Florida|    0.0|Thousand barrels|\n|  2021|   BFPRB|Biofuels production|     FL|             Florida|    0.0|     Billion Btu|\n+------+--------+-------------------+-------+--------------------+-------+----------------+\nonly showing top 20 rows\n\n"
     ]
    }
   ],
   "source": [
    "df_re.show()"
   ]
  },
  {
   "cell_type": "code",
   "execution_count": 0,
   "metadata": {
    "application/vnd.databricks.v1+cell": {
     "cellMetadata": {
      "byteLimit": 2048000,
      "rowLimit": 10000
     },
     "inputWidgets": {},
     "nuid": "6f2a77db-83c9-4a52-bc01-943dae9a1d2c",
     "showTitle": false,
     "title": ""
    }
   },
   "outputs": [
    {
     "output_type": "stream",
     "name": "stdout",
     "output_type": "stream",
     "text": [
      "+-------+------------------+--------+--------------------+-------+----------------+-----------------+----------------+\n|summary|            period|seriesId|   seriesDescription|stateId|stateDescription|            value|            unit|\n+-------+------------------+--------+--------------------+-------+----------------+-----------------+----------------+\n|  count|             70482|   70482|               70482|  70482|           70482|            70482|           70482|\n|   mean|2010.4965097471695|    null|                null|   null|            null| 9542.65666992989|            null|\n| stddev|  6.35039493294208|    null|                null|   null|            null|35569.63266047802|            null|\n|    min|              2000|   BFPRB| Biofuels production|     AK|         Alabama|             -2.0|     Billion Btu|\n|    max|              2021|   WYTCP|Wood price in the...|     WY|         Wyoming|         892101.0|Thousand barrels|\n+-------+------------------+--------+--------------------+-------+----------------+-----------------+----------------+\n\n"
     ]
    }
   ],
   "source": [
    "df_re.describe().show()"
   ]
  },
  {
   "cell_type": "code",
   "execution_count": 0,
   "metadata": {
    "application/vnd.databricks.v1+cell": {
     "cellMetadata": {
      "byteLimit": 2048000,
      "rowLimit": 10000
     },
     "inputWidgets": {},
     "nuid": "cfcb9d9b-7245-4323-b2d8-fd05e7f2259b",
     "showTitle": false,
     "title": ""
    }
   },
   "outputs": [
    {
     "output_type": "stream",
     "name": "stdout",
     "output_type": "stream",
     "text": [
      "root\n |-- period: integer (nullable = true)\n |-- seriesId: string (nullable = true)\n |-- seriesDescription: string (nullable = true)\n |-- stateId: string (nullable = true)\n |-- stateDescription: string (nullable = true)\n |-- value: double (nullable = true)\n |-- unit: string (nullable = true)\n\n"
     ]
    }
   ],
   "source": [
    "df_re.printSchema()"
   ]
  },
  {
   "cell_type": "code",
   "execution_count": 0,
   "metadata": {
    "application/vnd.databricks.v1+cell": {
     "cellMetadata": {
      "byteLimit": 2048000,
      "rowLimit": 10000
     },
     "inputWidgets": {},
     "nuid": "a227aed0-46ac-4b39-a25f-b7d2bb6bffff",
     "showTitle": true,
     "title": "Check for Nulls and Duplicates"
    }
   },
   "outputs": [
    {
     "output_type": "stream",
     "name": "stdout",
     "output_type": "stream",
     "text": [
      "+------+--------+-----------------+-------+----------------+-----+----+\n|period|seriesId|seriesDescription|stateId|stateDescription|value|unit|\n+------+--------+-----------------+-------+----------------+-----+----+\n|     0|       0|                0|      0|               0|    0|   0|\n+------+--------+-----------------+-------+----------------+-----+----+\n\n"
     ]
    }
   ],
   "source": [
    "#Check Nulls in a DF\n",
    "from pyspark.sql.functions import col,isnan, when, count\n",
    "df_re.select([count(when(isnan(c) | col(c).isNull(), c)).alias(c) for c in df_re.columns]\n",
    "   ).show()"
   ]
  },
  {
   "cell_type": "code",
   "execution_count": 0,
   "metadata": {
    "application/vnd.databricks.v1+cell": {
     "cellMetadata": {
      "byteLimit": 2048000,
      "rowLimit": 10000
     },
     "inputWidgets": {},
     "nuid": "bac0d0d6-c4ed-4482-8569-9061307c6853",
     "showTitle": false,
     "title": ""
    }
   },
   "outputs": [
    {
     "output_type": "stream",
     "name": "stdout",
     "output_type": "stream",
     "text": [
      "Out[18]: 52"
     ]
    }
   ],
   "source": [
    "#Check the duplicates\n",
    "df_re.createOrReplaceTempView(\"re\")\n",
    "spark.sql(\"select * from re group by all having count(*)>1\").count()\n"
   ]
  },
  {
   "cell_type": "code",
   "execution_count": 0,
   "metadata": {
    "application/vnd.databricks.v1+cell": {
     "cellMetadata": {
      "byteLimit": 2048000,
      "rowLimit": 10000
     },
     "inputWidgets": {},
     "nuid": "95083acb-25a1-460e-b687-114b75302d33",
     "showTitle": true,
     "title": "Remove Nulls and Duplicates if exists"
    }
   },
   "outputs": [
    {
     "output_type": "stream",
     "name": "stdout",
     "output_type": "stream",
     "text": [
      "Out[19]: 70430"
     ]
    }
   ],
   "source": [
    "#Drop Duplicates\n",
    "df_re=df_re.dropDuplicates()\n",
    "df_re.count()"
   ]
  },
  {
   "cell_type": "code",
   "execution_count": 0,
   "metadata": {
    "application/vnd.databricks.v1+cell": {
     "cellMetadata": {
      "byteLimit": 2048000,
      "rowLimit": 10000
     },
     "inputWidgets": {},
     "nuid": "2c596b79-9dc2-4dfe-9ce2-a20ba47ffdff",
     "showTitle": true,
     "title": "Filter to get Unique Unit per KPI"
    }
   },
   "outputs": [
    {
     "output_type": "stream",
     "name": "stdout",
     "output_type": "stream",
     "text": [
      "+--------------------+\n|                unit|\n+--------------------+\n|         Billion Btu|\n|Dollars per milli...|\n|Million kilowatth...|\n|     Million dollars|\n+--------------------+\n\nOut[20]: 62576"
     ]
    }
   ],
   "source": [
    "# List of values to filter on\n",
    "values_to_filter = ['Billion Btu', 'Dollars per million Btu', 'Million Btu','Million dollars','Million kilowatthours']\n",
    "values_to_remove = ['Wood and waste energy consumed in the commercial sector at a cost','Wood and waste energy consumed in the commercial sector at no cost','Wood and waste energy consumed in the industrial sector at a cost','Wood and waste energy consumed in the industrial sector at no cost','Wood energy consumed in the residential sector at a cost','Wood energy consumed in the residential sector at no cost']\n",
    "\n",
    "# Applying the filter\n",
    "df_re=df_re.filter(~col('seriesDescription').isin(values_to_remove))\n",
    "filtered_df_re = df_re.filter(col('unit').isin(values_to_filter))\n",
    "\n",
    "# Show the filtered DataFrame\n",
    "filtered_df_re.select('unit').distinct().show()\n",
    "filtered_df_re.count()"
   ]
  },
  {
   "cell_type": "code",
   "execution_count": 0,
   "metadata": {
    "application/vnd.databricks.v1+cell": {
     "cellMetadata": {
      "byteLimit": 2048000,
      "rowLimit": 10000
     },
     "inputWidgets": {},
     "nuid": "31be345b-5559-4994-9d45-9973f1dd2343",
     "showTitle": false,
     "title": ""
    }
   },
   "outputs": [
    {
     "output_type": "stream",
     "name": "stdout",
     "output_type": "stream",
     "text": [
      "+------+--------+-------------------+-------+--------------------+--------+-----------+-----------+-------------+----------+---------+\n|period|seriesId|  seriesDescription|stateId|    stateDescription|   value|       unit|     sector|energy_source|      type|  regions|\n+------+--------+-------------------+-------+--------------------+--------+-----------+-----------+-------------+----------+---------+\n|  2021|   BFPRB|Biofuels production|     HI|              Hawaii|   711.0|Billion Btu|All Sectors|     Biofuels|Production|     West|\n|  2021|   BFPRB|Biofuels production|     KS|              Kansas| 80295.0|Billion Btu|All Sectors|     Biofuels|Production|  Midwest|\n|  2021|   BFPRB|Biofuels production|     CA|          California| 36702.0|Billion Btu|All Sectors|     Biofuels|Production|     West|\n|  2021|   BFPRB|Biofuels production|     IA|                Iowa|597174.0|Billion Btu|All Sectors|     Biofuels|Production|  Midwest|\n|  2021|   BFPRB|Biofuels production|     MD|            Maryland|     0.0|Billion Btu|All Sectors|     Biofuels|Production|    South|\n|  2021|   BFPRB|Biofuels production|     ID|               Idaho|  1372.0|Billion Btu|All Sectors|     Biofuels|Production|     West|\n|  2021|   BFPRB|Biofuels production|     AR|            Arkansas|  6058.0|Billion Btu|All Sectors|     Biofuels|Production|    South|\n|  2021|   BFPRB|Biofuels production|     IL|            Illinois|215087.0|Billion Btu|All Sectors|     Biofuels|Production|  Midwest|\n|  2021|   BFPRB|Biofuels production|     AZ|             Arizona|     0.0|Billion Btu|All Sectors|     Biofuels|Production|     West|\n|  2021|   BFPRB|Biofuels production|     KY|            Kentucky| 11591.0|Billion Btu|All Sectors|     Biofuels|Production|    South|\n|  2021|   BFPRB|Biofuels production|     IN|             Indiana|167804.0|Billion Btu|All Sectors|     Biofuels|Production|  Midwest|\n|  2021|   BFPRB|Biofuels production|     AK|              Alaska|     0.0|Billion Btu|All Sectors|     Biofuels|Production|     West|\n|  2021|   BFPRB|Biofuels production|     ME|               Maine|    52.0|Billion Btu|All Sectors|     Biofuels|Production|Northeast|\n|  2021|   BFPRB|Biofuels production|     CT|         Connecticut|  3035.0|Billion Btu|All Sectors|     Biofuels|Production|Northeast|\n|  2021|   BFPRB|Biofuels production|     LA|           Louisiana| 51353.0|Billion Btu|All Sectors|     Biofuels|Production|    South|\n|  2021|   BFPRB|Biofuels production|     FL|             Florida|     0.0|Billion Btu|All Sectors|     Biofuels|Production|    South|\n|  2021|   BFPRB|Biofuels production|     GA|             Georgia|  1908.0|Billion Btu|All Sectors|     Biofuels|Production|    South|\n|  2021|   BFPRB|Biofuels production|     CO|            Colorado| 19206.0|Billion Btu|All Sectors|     Biofuels|Production|     West|\n|  2021|   BFPRB|Biofuels production|     DC|District of Columbia|     0.0|Billion Btu|All Sectors|     Biofuels|Production|    South|\n|  2021|   BFPRB|Biofuels production|     AL|             Alabama|  1615.0|Billion Btu|All Sectors|     Biofuels|Production|    South|\n+------+--------+-------------------+-------+--------------------+--------+-----------+-----------+-------------+----------+---------+\nonly showing top 20 rows\n\nOut[21]: 62576"
     ]
    }
   ],
   "source": [
    "conditions_col1 = [\n",
    "    (col(\"seriesDescription\").contains(\"commercial\"), \"Commercial\"),\n",
    "    (col(\"seriesDescription\").contains(\"residential\"),\"Residential\"),\n",
    "    (col(\"seriesDescription\").contains(\"industrial\"), \"Industrial\"),\n",
    "    (col(\"seriesDescription\").contains(\"transportation\"), \"Transportation\"),\n",
    "    (col(\"seriesDescription\").contains(\"electric power\"), \"Electric Power\"),\n",
    "    (col(\"seriesDescription\").contains(\"total\"), \"All Sectors\"),\n",
    "    (col(\"seriesDescription\").contains(\"all sectors\"), \"All Sectors\")\n",
    "   \n",
    "]\n",
    "\n",
    "conditions_col2 = [\n",
    "    (col(\"seriesDescription\").contains(\"Biofuels\"), \"Biofuels\"),\n",
    "    (col(\"seriesDescription\").contains(\"Hydro\"), \"Hydro\"),\n",
    "    (col(\"seriesDescription\").contains(\"Geothermal\"), \"Geothermal\"),\n",
    "    (col(\"seriesDescription\").contains(\"Solar\"), \"Solar\"),\n",
    "    (col(\"seriesDescription\").contains(\"Wind\"), \"Wind\"),\n",
    "    (col(\"seriesDescription\").contains(\"Wood and waste\"), \"Wood and waste\"),\n",
    "    (col(\"seriesDescription\").contains(\"Wood\"), \"Wood\")\n",
    "    \n",
    "]\n",
    "\n",
    "conditions_col3 = [\n",
    "    (col(\"seriesDescription\").contains(\"price\"), \"Average Price\"),\n",
    "    (col(\"seriesDescription\").contains(\"consumption per capita\"), \"Consumption per capita\"),\n",
    "    (col(\"seriesDescription\").contains(\"consum\"), \"Consumption\"),\n",
    "    (col(\"seriesDescription\").contains(\"expenditure\"), \"Expenditure\"),\n",
    "    (col(\"seriesDescription\").contains(\"production\"), \"Production\"),\n",
    "    (col(\"seriesDescription\").contains(\"generation\"), \"Generation\"),\n",
    "    \n",
    "]\n",
    "\n",
    "conditions_col4 = [\n",
    "    (col(\"stateDescription\").isin(\"Connecticut\", \"Maine\", \"Massachusetts\", \"New Hampshire\", \"New Jersey\",\n",
    "                        \"New York\", \"Pennsylvania\", \"Rhode Island\", \"Vermont\"), \"Northeast\"),\n",
    "    (col(\"stateDescription\").isin(\"Illinois\", \"Indiana\", \"Iowa\", \"Kansas\", \"Michigan\", \"Minnesota\",\n",
    "                        \"Missouri\", \"Nebraska\", \"North Dakota\", \"Ohio\", \"South Dakota\", \"Wisconsin\"), \"Midwest\"),\n",
    "    (col(\"stateDescription\").isin(\"Alabama\", \"Arkansas\", \"Delaware\", \"District of Columbia\", \"Florida\", \"Georgia\",\n",
    "                        \"Kentucky\", \"Louisiana\", \"Maryland\", \"Mississippi\", \"North Carolina\", \"Oklahoma\",\n",
    "                        \"South Carolina\", \"Tennessee\", \"Texas\", \"Virginia\", \"West Virginia\"), \"South\"),\n",
    "    (col(\"stateDescription\").isin(\"Alaska\", \"Arizona\", \"California\", \"Colorado\", \"Hawaii\", \"Idaho\", \"Montana\",\n",
    "                        \"Nevada\", \"New Mexico\", \"Oregon\", \"Utah\", \"Washington\", \"Wyoming\"), \"West\")\n",
    "]\n",
    "\n",
    "result_df_re = filtered_df_re \\\n",
    "    .withColumn(\"sector\", \n",
    "                when(conditions_col1[0][0], conditions_col1[0][1])\n",
    "                .when(conditions_col1[1][0], conditions_col1[1][1])\n",
    "                .when(conditions_col1[2][0], conditions_col1[2][1])\n",
    "                .when(conditions_col1[3][0], conditions_col1[3][1])\n",
    "                .when(conditions_col1[4][0], conditions_col1[4][1])\n",
    "                .when(conditions_col1[5][0], conditions_col1[5][1])\n",
    "                .when(conditions_col1[6][0], conditions_col1[6][1])\n",
    "                .otherwise(\"All Sectors\")) \\\n",
    "    .withColumn(\"energy_source\", \n",
    "                when(conditions_col2[0][0], conditions_col2[0][1])\n",
    "                .when(conditions_col2[1][0], conditions_col2[1][1])\n",
    "                .when(conditions_col2[2][0], conditions_col2[2][1])\n",
    "                .when(conditions_col2[3][0], conditions_col2[3][1])\n",
    "                .when(conditions_col2[4][0], conditions_col2[4][1])\n",
    "                .when(conditions_col2[5][0], conditions_col2[5][1])\n",
    "                .when(conditions_col2[6][0], conditions_col2[6][1])\n",
    "                .otherwise(\"na\")) \\\n",
    "    .withColumn(\"type\", \n",
    "                when(conditions_col3[0][0], conditions_col3[0][1])\n",
    "                .when(conditions_col3[1][0], conditions_col3[1][1])\n",
    "                .when(conditions_col3[2][0], conditions_col3[2][1])\n",
    "                .when(conditions_col3[3][0], conditions_col3[3][1])\n",
    "                .when(conditions_col3[4][0], conditions_col3[4][1])\n",
    "                .when(conditions_col3[5][0], conditions_col3[5][1])\n",
    "                .otherwise(\"na\")) \\\n",
    "    .withColumn(\"regions\", \n",
    "                when(conditions_col4[0][0], conditions_col4[0][1])\n",
    "                .when(conditions_col4[1][0], conditions_col4[1][1])\n",
    "                .when(conditions_col4[2][0], conditions_col4[2][1])\n",
    "                .when(conditions_col4[3][0], conditions_col4[3][1])\n",
    "                .otherwise(\"Other\"))\n",
    "\n",
    "result_df_re.show()\n",
    "result_df_re.count()"
   ]
  },
  {
   "cell_type": "code",
   "execution_count": 0,
   "metadata": {
    "application/vnd.databricks.v1+cell": {
     "cellMetadata": {
      "byteLimit": 2048000,
      "rowLimit": 10000
     },
     "inputWidgets": {},
     "nuid": "3e90433c-aa2f-462b-b5db-a824b91dea8d",
     "showTitle": false,
     "title": ""
    }
   },
   "outputs": [],
   "source": [
    "from pyspark.sql.functions import col,isnan, when, count\n",
    "result_df_re.select([count(when(isnan(c) | col(c).isNull(), c)).alias(c) for c in result_df_re.columns]\n",
    "   ).show()"
   ]
  },
  {
   "cell_type": "code",
   "execution_count": 0,
   "metadata": {
    "application/vnd.databricks.v1+cell": {
     "cellMetadata": {
      "byteLimit": 2048000,
      "rowLimit": 10000
     },
     "inputWidgets": {},
     "nuid": "2a9a0556-62fe-4f1b-bf60-e4baadef5a28",
     "showTitle": false,
     "title": ""
    }
   },
   "outputs": [],
   "source": [
    "result_df_re.select('sector', 'energy_source', 'type').distinct().orderBy('sector','energy_source','type').show(300)"
   ]
  },
  {
   "cell_type": "code",
   "execution_count": 0,
   "metadata": {
    "application/vnd.databricks.v1+cell": {
     "cellMetadata": {
      "byteLimit": 2048000,
      "rowLimit": 10000
     },
     "inputWidgets": {},
     "nuid": "acabf332-5949-489e-8d21-d3dac1354be4",
     "showTitle": false,
     "title": ""
    }
   },
   "outputs": [
    {
     "output_type": "stream",
     "name": "stdout",
     "output_type": "stream",
     "text": [
      "+-------------+--------------------+\n|         type|                unit|\n+-------------+--------------------+\n|Average Price|Dollars per milli...|\n|  Consumption|         Billion Btu|\n|  Expenditure|     Million dollars|\n|   Generation|Million kilowatth...|\n|   Production|         Billion Btu|\n+-------------+--------------------+\n\n"
     ]
    }
   ],
   "source": [
    "distinct_values = result_df_re.select( 'type','unit').distinct().orderBy('type','unit')\n",
    "distinct_values.show(200)"
   ]
  },
  {
   "cell_type": "code",
   "execution_count": 0,
   "metadata": {
    "application/vnd.databricks.v1+cell": {
     "cellMetadata": {
      "byteLimit": 2048000,
      "rowLimit": 10000
     },
     "inputWidgets": {},
     "nuid": "f6c76d90-d552-4e87-84d5-953d90784467",
     "showTitle": false,
     "title": ""
    }
   },
   "outputs": [],
   "source": [
    "result_df_re.filter((col('energy_source') == 'Wood') &  (col('sector')=='Residential') & (col('stateId')=='AK')).orderBy('period','type').show()\n"
   ]
  },
  {
   "cell_type": "code",
   "execution_count": 0,
   "metadata": {
    "application/vnd.databricks.v1+cell": {
     "cellMetadata": {
      "byteLimit": 2048000,
      "rowLimit": 10000
     },
     "inputWidgets": {},
     "nuid": "68ee8031-a0b3-4119-be13-c68d271a92e6",
     "showTitle": false,
     "title": ""
    }
   },
   "outputs": [],
   "source": [
    "result_df_re.coalesce(1).write.mode(\"overwrite\").option(\"header\",'true').csv(\"/mnt/energyclimatenexus/Transformed_data/re\")"
   ]
  },
  {
   "cell_type": "code",
   "execution_count": 0,
   "metadata": {
    "application/vnd.databricks.v1+cell": {
     "cellMetadata": {
      "byteLimit": 2048000,
      "rowLimit": 10000
     },
     "inputWidgets": {},
     "nuid": "226e05ba-9648-4b5c-a6d1-1e7ebe402ec6",
     "showTitle": true,
     "title": "Climate Data"
    }
   },
   "outputs": [
    {
     "output_type": "stream",
     "name": "stdout",
     "output_type": "stream",
     "text": [
      "Out[58]: 1127"
     ]
    }
   ],
   "source": [
    "df_cl = spark.read.csv(\"dbfs:/mnt/energyclimatenexus/Raw_data/climate_data.csv\", header=True, inferSchema=True)\n",
    "df_cl.count()"
   ]
  },
  {
   "cell_type": "code",
   "execution_count": 0,
   "metadata": {
    "application/vnd.databricks.v1+cell": {
     "cellMetadata": {
      "byteLimit": 2048000,
      "rowLimit": 10000
     },
     "inputWidgets": {},
     "nuid": "5db9727a-73be-4dae-be2b-77dd6e62868d",
     "showTitle": false,
     "title": ""
    }
   },
   "outputs": [
    {
     "output_type": "stream",
     "name": "stdout",
     "output_type": "stream",
     "text": [
      "+------+-------+----------+------------+----------------+--------+----------------+--------+----------------+-------------+---------------------+---------------------------------+-----------+----+-----------+----+-----------+\n|  Year|Stateid|State_name|Average Temp|Avg_Temp_Anamoly|Max temp|Max temp Anamoly|Min Temp|Min Temp Anamoly|Precipitation|Precipitation Anamoly|Drought Severity (Palmar Z Index)|DSI Anamoly| CDD|CDD Anamoly| HDD|HDD Anamoly|\n+------+-------+----------+------------+----------------+--------+----------------+--------+----------------+-------------+---------------------+---------------------------------+-----------+----+-----------+----+-----------+\n|200012|     AL|   Alabama|        63.6|             0.5|    76.0|             1.1|    51.2|             0.0|        42.49|               -12.76|                            -1.42|      -1.38|2052|        167|2802|        -22|\n|200112|     AL|   Alabama|        63.0|            -0.1|    74.6|            -0.3|    51.4|             0.2|        59.04|                 3.79|                             0.52|       0.56|1713|       -172|2656|       -168|\n|200212|     AL|   Alabama|        63.6|             0.5|    74.8|            -0.1|    52.4|             1.2|        57.13|                 1.88|                              0.1|       0.14|2053|        168|2774|        -50|\n|200312|     AL|   Alabama|        62.7|            -0.4|    73.8|            -1.1|    51.6|             0.4|        63.72|                 8.47|                             1.01|       1.05|1764|       -121|2806|        -18|\n|200412|     AL|   Alabama|        63.3|             0.2|    74.2|            -0.7|    52.4|             1.2|        59.88|                 4.63|                             0.65|       0.69|1841|        -44|2637|       -187|\n|200512|     AL|   Alabama|        63.4|             0.3|    74.9|             0.0|    51.9|             0.7|        57.08|                 1.83|                             0.33|       0.37|1905|         20|2691|       -133|\n|200612|     AL|   Alabama|        64.2|             1.1|    76.6|             1.7|    51.7|             0.5|        47.54|                -7.71|                            -0.83|      -0.79|2037|        152|2534|       -290|\n|200712|     AL|   Alabama|        64.4|             1.3|    76.8|             1.9|    52.0|             0.8|        37.86|               -17.39|                            -1.82|      -1.78|2171|        286|2521|       -303|\n|200812|     AL|   Alabama|        62.9|            -0.2|    74.7|            -0.2|    51.1|            -0.1|        53.07|                -2.18|                            -0.09|      -0.05|1841|        -44|2807|        -17|\n|200912|     AL|   Alabama|        62.9|            -0.2|    73.8|            -1.1|    52.1|             0.9|        73.77|                18.52|                             1.54|       1.58|1819|        -66|2798|        -26|\n|201012|     AL|   Alabama|        62.7|            -0.4|    74.7|            -0.2|    50.7|            -0.5|        47.19|                -8.06|                             -0.9|      -0.86|2291|        406|3318|        494|\n|201112|     AL|   Alabama|        63.8|             0.7|    75.9|             1.0|    51.7|             0.5|        50.71|                -4.54|                             -0.7|      -0.66|2032|        147|2667|       -157|\n|201212|     AL|   Alabama|        64.9|             1.8|    76.5|             1.6|    53.3|             2.1|        53.38|                -1.87|                            -0.28|      -0.24|2035|        150|2209|       -615|\n|201312|     AL|   Alabama|        62.6|            -0.5|    73.3|            -1.6|    51.9|             0.7|         64.7|                 9.45|                             1.07|       1.11|1717|       -168|2825|          1|\n|201412|     AL|   Alabama|        62.0|            -1.1|    73.7|            -1.2|    50.4|            -0.8|        56.03|                 0.78|                             0.09|       0.13|1825|        -60|3134|        310|\n|201512|     AL|   Alabama|        64.6|             1.5|    75.4|             0.5|    53.8|             2.6|        61.36|                 6.11|                             0.17|       0.21|2086|        201|2427|       -397|\n|201612|     AL|   Alabama|        65.3|             2.2|    77.3|             2.4|    53.4|             2.2|        45.01|               -10.24|                            -1.37|      -1.33|2303|        418|2353|       -471|\n|201712|     AL|   Alabama|        65.0|             1.9|    76.2|             1.3|    53.9|             2.7|        64.19|                 8.94|                             0.85|       0.89|1919|         34|2129|       -695|\n|201812|     AL|   Alabama|        64.5|             1.4|    75.2|             0.3|    53.7|             2.5|         64.4|                 9.15|                             0.56|        0.6|2247|        362|2694|       -130|\n|201912|     AL|   Alabama|        65.4|             2.3|    76.6|             1.7|    54.1|             2.9|         56.3|                 1.05|                            -0.28|      -0.24|2287|        402|2398|       -426|\n+------+-------+----------+------------+----------------+--------+----------------+--------+----------------+-------------+---------------------+---------------------------------+-----------+----+-----------+----+-----------+\nonly showing top 20 rows\n\n"
     ]
    }
   ],
   "source": [
    "df_cl.show()"
   ]
  },
  {
   "cell_type": "code",
   "execution_count": 0,
   "metadata": {
    "application/vnd.databricks.v1+cell": {
     "cellMetadata": {
      "byteLimit": 2048000,
      "rowLimit": 10000
     },
     "inputWidgets": {},
     "nuid": "7c2f7653-9ec0-4204-bada-ad12f518b499",
     "showTitle": false,
     "title": ""
    }
   },
   "outputs": [
    {
     "output_type": "stream",
     "name": "stdout",
     "output_type": "stream",
     "text": [
      "root\n |-- Year: integer (nullable = true)\n |-- Stateid: string (nullable = true)\n |-- State_name: string (nullable = true)\n |-- Average Temp: double (nullable = true)\n |-- Avg_Temp_Anamoly: double (nullable = true)\n |-- Max temp: double (nullable = true)\n |-- Max temp Anamoly: double (nullable = true)\n |-- Min Temp: double (nullable = true)\n |-- Min Temp Anamoly: double (nullable = true)\n |-- Precipitation: double (nullable = true)\n |-- Precipitation Anamoly: double (nullable = true)\n |-- Drought Severity (Palmar Z Index): double (nullable = true)\n |-- DSI Anamoly: double (nullable = true)\n |-- CDD: integer (nullable = true)\n |-- CDD Anamoly: integer (nullable = true)\n |-- HDD: integer (nullable = true)\n |-- HDD Anamoly: integer (nullable = true)\n\n+-------+-----------------+-------+----------+-----------------+------------------+-----------------+------------------+-----------------+------------------+------------------+---------------------+---------------------------------+-------------------+------------------+------------------+-----------------+------------------+\n|summary|             Year|Stateid|State_name|     Average Temp|  Avg_Temp_Anamoly|         Max temp|  Max temp Anamoly|         Min Temp|  Min Temp Anamoly|     Precipitation|Precipitation Anamoly|Drought Severity (Palmar Z Index)|        DSI Anamoly|               CDD|       CDD Anamoly|              HDD|       HDD Anamoly|\n+-------+-----------------+-------+----------+-----------------+------------------+-----------------+------------------+-----------------+------------------+------------------+---------------------+---------------------------------+-------------------+------------------+------------------+-----------------+------------------+\n|  count|             1127|   1127|      1127|             1127|              1127|             1127|              1127|             1127|              1127|              1127|                 1127|                             1127|               1127|              1127|              1127|             1127|              1127|\n|   mean|         201112.0|   null|      null|52.47373558118904| 1.502307009760426| 63.6039929015084| 1.240727595385982|41.34170363797689|1.6661934338952962| 37.94377107364687|    2.110301685891745|               0.0512244897959183|0.07183673469387748|1118.3416149068323|147.85181898846494|5054.358473824313|-422.1517302573203|\n| stddev|663.6194419737421|   null|      null| 8.45117849271987|1.3481037276655847|8.902781214309417|1.5451467028627044|8.242134952139825|1.3807165906080423|15.197607975080896|    6.071709657767726|               0.9170338460392835| 0.9461973524608346| 835.6728325235862| 171.5718892815083|2180.841391960593| 387.8191758950831|\n|    min|           200012|     AK|   Alabama|             24.3|              -3.6|             31.8|              -4.2|             16.8|              -3.5|              5.86|               -17.39|                            -2.72|              -2.66|                 0|              -276|                0|             -1691|\n|    max|           202212|     WY|   Wyoming|             73.4|               6.2|             83.3|               5.9|             63.6|               6.5|             73.77|                22.59|                             3.87|               3.54|              4150|               985|            10201|               702|\n+-------+-----------------+-------+----------+-----------------+------------------+-----------------+------------------+-----------------+------------------+------------------+---------------------+---------------------------------+-------------------+------------------+------------------+-----------------+------------------+\n\n"
     ]
    }
   ],
   "source": [
    "df_cl.printSchema()\n",
    "df_cl.describe().show()"
   ]
  },
  {
   "cell_type": "code",
   "execution_count": 0,
   "metadata": {
    "application/vnd.databricks.v1+cell": {
     "cellMetadata": {
      "byteLimit": 2048000,
      "rowLimit": 10000
     },
     "inputWidgets": {},
     "nuid": "faad75d2-94b1-4e1b-870d-5cce81d55491",
     "showTitle": false,
     "title": ""
    }
   },
   "outputs": [
    {
     "output_type": "stream",
     "name": "stdout",
     "output_type": "stream",
     "text": [
      "+----+-------+----------+------------+----------------+--------+----------------+--------+----------------+-------------+---------------------+---------------------------------+-----------+----+-----------+----+-----------+\n|year|Stateid|State_name|Average Temp|Avg_Temp_Anamoly|Max temp|Max temp Anamoly|Min Temp|Min Temp Anamoly|Precipitation|Precipitation Anamoly|Drought Severity (Palmar Z Index)|DSI Anamoly| CDD|CDD Anamoly| HDD|HDD Anamoly|\n+----+-------+----------+------------+----------------+--------+----------------+--------+----------------+-------------+---------------------+---------------------------------+-----------+----+-----------+----+-----------+\n|2000|     AL|   Alabama|        63.6|             0.5|    76.0|             1.1|    51.2|             0.0|        42.49|               -12.76|                            -1.42|      -1.38|2052|        167|2802|        -22|\n|2001|     AL|   Alabama|        63.0|            -0.1|    74.6|            -0.3|    51.4|             0.2|        59.04|                 3.79|                             0.52|       0.56|1713|       -172|2656|       -168|\n|2002|     AL|   Alabama|        63.6|             0.5|    74.8|            -0.1|    52.4|             1.2|        57.13|                 1.88|                              0.1|       0.14|2053|        168|2774|        -50|\n|2003|     AL|   Alabama|        62.7|            -0.4|    73.8|            -1.1|    51.6|             0.4|        63.72|                 8.47|                             1.01|       1.05|1764|       -121|2806|        -18|\n|2004|     AL|   Alabama|        63.3|             0.2|    74.2|            -0.7|    52.4|             1.2|        59.88|                 4.63|                             0.65|       0.69|1841|        -44|2637|       -187|\n|2005|     AL|   Alabama|        63.4|             0.3|    74.9|             0.0|    51.9|             0.7|        57.08|                 1.83|                             0.33|       0.37|1905|         20|2691|       -133|\n|2006|     AL|   Alabama|        64.2|             1.1|    76.6|             1.7|    51.7|             0.5|        47.54|                -7.71|                            -0.83|      -0.79|2037|        152|2534|       -290|\n|2007|     AL|   Alabama|        64.4|             1.3|    76.8|             1.9|    52.0|             0.8|        37.86|               -17.39|                            -1.82|      -1.78|2171|        286|2521|       -303|\n|2008|     AL|   Alabama|        62.9|            -0.2|    74.7|            -0.2|    51.1|            -0.1|        53.07|                -2.18|                            -0.09|      -0.05|1841|        -44|2807|        -17|\n|2009|     AL|   Alabama|        62.9|            -0.2|    73.8|            -1.1|    52.1|             0.9|        73.77|                18.52|                             1.54|       1.58|1819|        -66|2798|        -26|\n|2010|     AL|   Alabama|        62.7|            -0.4|    74.7|            -0.2|    50.7|            -0.5|        47.19|                -8.06|                             -0.9|      -0.86|2291|        406|3318|        494|\n|2011|     AL|   Alabama|        63.8|             0.7|    75.9|             1.0|    51.7|             0.5|        50.71|                -4.54|                             -0.7|      -0.66|2032|        147|2667|       -157|\n|2012|     AL|   Alabama|        64.9|             1.8|    76.5|             1.6|    53.3|             2.1|        53.38|                -1.87|                            -0.28|      -0.24|2035|        150|2209|       -615|\n|2013|     AL|   Alabama|        62.6|            -0.5|    73.3|            -1.6|    51.9|             0.7|         64.7|                 9.45|                             1.07|       1.11|1717|       -168|2825|          1|\n|2014|     AL|   Alabama|        62.0|            -1.1|    73.7|            -1.2|    50.4|            -0.8|        56.03|                 0.78|                             0.09|       0.13|1825|        -60|3134|        310|\n|2015|     AL|   Alabama|        64.6|             1.5|    75.4|             0.5|    53.8|             2.6|        61.36|                 6.11|                             0.17|       0.21|2086|        201|2427|       -397|\n|2016|     AL|   Alabama|        65.3|             2.2|    77.3|             2.4|    53.4|             2.2|        45.01|               -10.24|                            -1.37|      -1.33|2303|        418|2353|       -471|\n|2017|     AL|   Alabama|        65.0|             1.9|    76.2|             1.3|    53.9|             2.7|        64.19|                 8.94|                             0.85|       0.89|1919|         34|2129|       -695|\n|2018|     AL|   Alabama|        64.5|             1.4|    75.2|             0.3|    53.7|             2.5|         64.4|                 9.15|                             0.56|        0.6|2247|        362|2694|       -130|\n|2019|     AL|   Alabama|        65.4|             2.3|    76.6|             1.7|    54.1|             2.9|         56.3|                 1.05|                            -0.28|      -0.24|2287|        402|2398|       -426|\n+----+-------+----------+------------+----------------+--------+----------------+--------+----------------+-------------+---------------------+---------------------------------+-----------+----+-----------+----+-----------+\nonly showing top 20 rows\n\n"
     ]
    }
   ],
   "source": [
    "from pyspark.sql.functions import col,isnan, when, count\n",
    "df_cl = df_cl.withColumn(\"year\", col(\"Year\").substr(1, 4).cast(\"int\"))\n",
    "df_cl.show()"
   ]
  },
  {
   "cell_type": "code",
   "execution_count": 0,
   "metadata": {
    "application/vnd.databricks.v1+cell": {
     "cellMetadata": {
      "byteLimit": 2048000,
      "rowLimit": 10000
     },
     "inputWidgets": {},
     "nuid": "99ea63a0-20ad-4c0d-941c-8b19a8bb4bbc",
     "showTitle": false,
     "title": ""
    }
   },
   "outputs": [
    {
     "output_type": "stream",
     "name": "stdout",
     "output_type": "stream",
     "text": [
      "+----+-------+----------+------------+----------------+--------+----------------+--------+----------------+-------------+---------------------+---------------------------------+-----------+---+-----------+---+-----------+\n|year|Stateid|State_name|Average Temp|Avg_Temp_Anamoly|Max temp|Max temp Anamoly|Min Temp|Min Temp Anamoly|Precipitation|Precipitation Anamoly|Drought Severity (Palmar Z Index)|DSI Anamoly|CDD|CDD Anamoly|HDD|HDD Anamoly|\n+----+-------+----------+------------+----------------+--------+----------------+--------+----------------+-------------+---------------------+---------------------------------+-----------+---+-----------+---+-----------+\n|   0|      0|         0|           0|               0|       0|               0|       0|               0|            0|                    0|                                0|          0|  0|          0|  0|          0|\n+----+-------+----------+------------+----------------+--------+----------------+--------+----------------+-------------+---------------------+---------------------------------+-----------+---+-----------+---+-----------+\n\nOut[14]: 0"
     ]
    }
   ],
   "source": [
    "#Check Nulls in a DF\n",
    "from pyspark.sql.functions import col,isnan, when, count\n",
    "df_cl.select([count(when(isnan(c) | col(c).isNull(), c)).alias(c) for c in df_cl.columns]\n",
    "   ).show()\n",
    "#Check the duplicates\n",
    "df_cl.createOrReplaceTempView(\"climate\")\n",
    "spark.sql(\"select * from climate group by all having count(*)>1\").count()"
   ]
  },
  {
   "cell_type": "code",
   "execution_count": 0,
   "metadata": {
    "application/vnd.databricks.v1+cell": {
     "cellMetadata": {
      "byteLimit": 2048000,
      "rowLimit": 10000
     },
     "inputWidgets": {},
     "nuid": "af89d7d2-41c7-4048-8867-4e327985367c",
     "showTitle": false,
     "title": ""
    }
   },
   "outputs": [
    {
     "output_type": "stream",
     "name": "stdout",
     "output_type": "stream",
     "text": [
      "+----+-------+----------+------------+----------------+--------+----------------+--------+----------------+-------------+---------------------+---------------------------------+-----------+----+-----------+----+-----------+-------+\n|year|Stateid|State_name|Average Temp|Avg_Temp_Anamoly|Max temp|Max temp Anamoly|Min Temp|Min Temp Anamoly|Precipitation|Precipitation Anamoly|Drought Severity (Palmar Z Index)|DSI Anamoly| CDD|CDD Anamoly| HDD|HDD Anamoly|regions|\n+----+-------+----------+------------+----------------+--------+----------------+--------+----------------+-------------+---------------------+---------------------------------+-----------+----+-----------+----+-----------+-------+\n|2000|     AL|   Alabama|        63.6|             0.5|    76.0|             1.1|    51.2|             0.0|        42.49|               -12.76|                            -1.42|      -1.38|2052|        167|2802|        -22|  South|\n|2001|     AL|   Alabama|        63.0|            -0.1|    74.6|            -0.3|    51.4|             0.2|        59.04|                 3.79|                             0.52|       0.56|1713|       -172|2656|       -168|  South|\n|2002|     AL|   Alabama|        63.6|             0.5|    74.8|            -0.1|    52.4|             1.2|        57.13|                 1.88|                              0.1|       0.14|2053|        168|2774|        -50|  South|\n|2003|     AL|   Alabama|        62.7|            -0.4|    73.8|            -1.1|    51.6|             0.4|        63.72|                 8.47|                             1.01|       1.05|1764|       -121|2806|        -18|  South|\n|2004|     AL|   Alabama|        63.3|             0.2|    74.2|            -0.7|    52.4|             1.2|        59.88|                 4.63|                             0.65|       0.69|1841|        -44|2637|       -187|  South|\n|2005|     AL|   Alabama|        63.4|             0.3|    74.9|             0.0|    51.9|             0.7|        57.08|                 1.83|                             0.33|       0.37|1905|         20|2691|       -133|  South|\n|2006|     AL|   Alabama|        64.2|             1.1|    76.6|             1.7|    51.7|             0.5|        47.54|                -7.71|                            -0.83|      -0.79|2037|        152|2534|       -290|  South|\n|2007|     AL|   Alabama|        64.4|             1.3|    76.8|             1.9|    52.0|             0.8|        37.86|               -17.39|                            -1.82|      -1.78|2171|        286|2521|       -303|  South|\n|2008|     AL|   Alabama|        62.9|            -0.2|    74.7|            -0.2|    51.1|            -0.1|        53.07|                -2.18|                            -0.09|      -0.05|1841|        -44|2807|        -17|  South|\n|2009|     AL|   Alabama|        62.9|            -0.2|    73.8|            -1.1|    52.1|             0.9|        73.77|                18.52|                             1.54|       1.58|1819|        -66|2798|        -26|  South|\n|2010|     AL|   Alabama|        62.7|            -0.4|    74.7|            -0.2|    50.7|            -0.5|        47.19|                -8.06|                             -0.9|      -0.86|2291|        406|3318|        494|  South|\n|2011|     AL|   Alabama|        63.8|             0.7|    75.9|             1.0|    51.7|             0.5|        50.71|                -4.54|                             -0.7|      -0.66|2032|        147|2667|       -157|  South|\n|2012|     AL|   Alabama|        64.9|             1.8|    76.5|             1.6|    53.3|             2.1|        53.38|                -1.87|                            -0.28|      -0.24|2035|        150|2209|       -615|  South|\n|2013|     AL|   Alabama|        62.6|            -0.5|    73.3|            -1.6|    51.9|             0.7|         64.7|                 9.45|                             1.07|       1.11|1717|       -168|2825|          1|  South|\n|2014|     AL|   Alabama|        62.0|            -1.1|    73.7|            -1.2|    50.4|            -0.8|        56.03|                 0.78|                             0.09|       0.13|1825|        -60|3134|        310|  South|\n|2015|     AL|   Alabama|        64.6|             1.5|    75.4|             0.5|    53.8|             2.6|        61.36|                 6.11|                             0.17|       0.21|2086|        201|2427|       -397|  South|\n|2016|     AL|   Alabama|        65.3|             2.2|    77.3|             2.4|    53.4|             2.2|        45.01|               -10.24|                            -1.37|      -1.33|2303|        418|2353|       -471|  South|\n|2017|     AL|   Alabama|        65.0|             1.9|    76.2|             1.3|    53.9|             2.7|        64.19|                 8.94|                             0.85|       0.89|1919|         34|2129|       -695|  South|\n|2018|     AL|   Alabama|        64.5|             1.4|    75.2|             0.3|    53.7|             2.5|         64.4|                 9.15|                             0.56|        0.6|2247|        362|2694|       -130|  South|\n|2019|     AL|   Alabama|        65.4|             2.3|    76.6|             1.7|    54.1|             2.9|         56.3|                 1.05|                            -0.28|      -0.24|2287|        402|2398|       -426|  South|\n+----+-------+----------+------------+----------------+--------+----------------+--------+----------------+-------------+---------------------+---------------------------------+-----------+----+-----------+----+-----------+-------+\nonly showing top 20 rows\n\nOut[60]: 1127"
     ]
    }
   ],
   "source": [
    "conditions_col1 = [\n",
    "    (col(\"State_name\").isin(\"Connecticut\", \"Maine\", \"Massachusetts\", \"New Hampshire\", \"New Jersey\",\n",
    "                        \"New York\", \"Pennsylvania\", \"Rhode Island\", \"Vermont\"), \"Northeast\"),\n",
    "    (col(\"State_name\").isin(\"Illinois\", \"Indiana\", \"Iowa\", \"Kansas\", \"Michigan\", \"Minnesota\",\n",
    "                        \"Missouri\", \"Nebraska\", \"North Dakota\", \"Ohio\", \"South Dakota\", \"Wisconsin\"), \"Midwest\"),\n",
    "    (col(\"State_name\").isin(\"Alabama\", \"Arkansas\", \"Delaware\", \"District of Columbia\", \"Florida\", \"Georgia\",\n",
    "                        \"Kentucky\", \"Louisiana\", \"Maryland\", \"Mississippi\", \"North Carolina\", \"Oklahoma\",\n",
    "                        \"South Carolina\", \"Tennessee\", \"Texas\", \"Virginia\", \"West Virginia\"), \"South\"),\n",
    "    (col(\"State_name\").isin(\"Alaska\", \"Arizona\", \"California\", \"Colorado\", \"Hawaii\", \"Idaho\", \"Montana\",\n",
    "                        \"Nevada\", \"New Mexico\", \"Oregon\", \"Utah\", \"Washington\", \"Wyoming\"), \"West\")\n",
    "]\n",
    "\n",
    "result_df_cl = df_cl \\\n",
    "   .withColumn(\"regions\", \n",
    "                when(conditions_col1[0][0], conditions_col1[0][1])\n",
    "                .when(conditions_col1[1][0], conditions_col1[1][1])\n",
    "                .when(conditions_col1[2][0], conditions_col1[2][1])\n",
    "                .when(conditions_col1[3][0], conditions_col1[3][1])\n",
    "                .otherwise(\"Other\")) \n",
    "\n",
    "result_df_cl.show()\n",
    "result_df_cl.count()"
   ]
  },
  {
   "cell_type": "code",
   "execution_count": 0,
   "metadata": {
    "application/vnd.databricks.v1+cell": {
     "cellMetadata": {
      "byteLimit": 2048000,
      "rowLimit": 10000
     },
     "inputWidgets": {},
     "nuid": "040c1c05-f934-4ab2-b994-cde9f6738c70",
     "showTitle": false,
     "title": ""
    }
   },
   "outputs": [],
   "source": [
    "result_df_cl.coalesce(1).write.mode(\"overwrite\").option(\"header\",'true').csv(\"/mnt/energyclimatenexus/Transformed_data/climate_data\")"
   ]
  },
  {
   "cell_type": "code",
   "execution_count": 0,
   "metadata": {
    "application/vnd.databricks.v1+cell": {
     "cellMetadata": {
      "byteLimit": 2048000,
      "rowLimit": 10000
     },
     "inputWidgets": {},
     "nuid": "e8ef4502-8384-45e8-bfef-420375dd6e1f",
     "showTitle": true,
     "title": "CO2 Emissions data"
    }
   },
   "outputs": [
    {
     "output_type": "stream",
     "name": "stdout",
     "output_type": "stream",
     "text": [
      "Out[62]: 26928"
     ]
    }
   ],
   "source": [
    "df_co = spark.read.csv(\"dbfs:/mnt/energyclimatenexus/Raw_data/CO2_emissions_data.csv\", header=True, inferSchema=True)\n",
    "df_co.count()"
   ]
  },
  {
   "cell_type": "code",
   "execution_count": 0,
   "metadata": {
    "application/vnd.databricks.v1+cell": {
     "cellMetadata": {
      "byteLimit": 2048000,
      "rowLimit": 10000
     },
     "inputWidgets": {},
     "nuid": "97248e7a-1a7b-4915-bdea-970adaa8e547",
     "showTitle": false,
     "title": ""
    }
   },
   "outputs": [
    {
     "output_type": "stream",
     "name": "stdout",
     "output_type": "stream",
     "text": [
      "+------+--------+--------------------+------+-----------+-------+----------+---------+--------------------+\n|period|sectorId|         sector-name|fuelId|  fuel-name|stateId|state-name|    value|         value-units|\n+------+--------+--------------------+------+-----------+-------+----------+---------+--------------------+\n|  2021|      RC|Residential carbo...|    CO|       Coal|     AK|    Alaska|      0.0|million metric to...|\n|  2021|      TT|Total carbon diox...|    NG|Natural Gas|     AK|    Alaska|19.623623|million metric to...|\n|  2021|      RC|Residential carbo...|    PE|  Petroleum|     AK|    Alaska| 0.616132|million metric to...|\n|  2021|      RC|Residential carbo...|    NG|Natural Gas|     AK|    Alaska| 1.113967|million metric to...|\n|  2021|      RC|Residential carbo...|    TO|  All Fuels|     AK|    Alaska| 1.730099|million metric to...|\n|  2021|      CC|Commercial carbon...|    CO|       Coal|     AK|    Alaska| 0.706643|million metric to...|\n|  2021|      CC|Commercial carbon...|    PE|  Petroleum|     AK|    Alaska| 0.727085|million metric to...|\n|  2021|      CC|Commercial carbon...|    NG|Natural Gas|     AK|    Alaska| 0.869787|million metric to...|\n|  2021|      CC|Commercial carbon...|    TO|  All Fuels|     AK|    Alaska| 2.303515|million metric to...|\n|  2021|      TC|Transportation ca...|    CO|       Coal|     AK|    Alaska|      0.0|million metric to...|\n|  2021|      TC|Transportation ca...|    PE|  Petroleum|     AK|    Alaska|13.624604|million metric to...|\n|  2021|      TC|Transportation ca...|    NG|Natural Gas|     AK|    Alaska| 0.025608|million metric to...|\n|  2021|      TC|Transportation ca...|    TO|  All Fuels|     AK|    Alaska|13.650212|million metric to...|\n|  2021|      EC|Electric Power ca...|    CO|       Coal|     AK|    Alaska| 1.083132|million metric to...|\n|  2021|      EC|Electric Power ca...|    PE|  Petroleum|     AK|    Alaska| 0.364695|million metric to...|\n|  2021|      EC|Electric Power ca...|    NG|Natural Gas|     AK|    Alaska| 1.350157|million metric to...|\n|  2021|      EC|Electric Power ca...|    TO|  All Fuels|     AK|    Alaska| 2.797984|million metric to...|\n|  2021|      IC|Industrial carbon...|    CO|       Coal|     AK|    Alaska| 0.002105|million metric to...|\n|  2021|      IC|Industrial carbon...|    PE|  Petroleum|     AK|    Alaska| 2.124507|million metric to...|\n|  2021|      IC|Industrial carbon...|    NG|Natural Gas|     AK|    Alaska|16.264103|million metric to...|\n+------+--------+--------------------+------+-----------+-------+----------+---------+--------------------+\nonly showing top 20 rows\n\n"
     ]
    }
   ],
   "source": [
    "df_co.show()"
   ]
  },
  {
   "cell_type": "code",
   "execution_count": 0,
   "metadata": {
    "application/vnd.databricks.v1+cell": {
     "cellMetadata": {
      "byteLimit": 2048000,
      "rowLimit": 10000
     },
     "inputWidgets": {},
     "nuid": "44b2f984-94ac-41ae-bf27-f33d1fe5a50a",
     "showTitle": false,
     "title": ""
    }
   },
   "outputs": [],
   "source": [
    "df_co = df_co.withColumnRenamed(\"state-name\", \"State_name\")\n",
    "df_co = df_co.withColumnRenamed(\"sector-name\", \"Sector\")\n",
    "df_co = df_co.withColumnRenamed(\"fuel-name\", \"Fuel\")\n",
    "df_co = df_co.withColumnRenamed(\"value-units\", \"unit\")"
   ]
  },
  {
   "cell_type": "code",
   "execution_count": 0,
   "metadata": {
    "application/vnd.databricks.v1+cell": {
     "cellMetadata": {
      "byteLimit": 2048000,
      "rowLimit": 10000
     },
     "inputWidgets": {},
     "nuid": "ba6d6ab9-74b7-4045-ac0e-ec1987f7868a",
     "showTitle": false,
     "title": ""
    }
   },
   "outputs": [
    {
     "output_type": "stream",
     "name": "stdout",
     "output_type": "stream",
     "text": [
      "root\n |-- period: integer (nullable = true)\n |-- sectorId: string (nullable = true)\n |-- Sector: string (nullable = true)\n |-- fuelId: string (nullable = true)\n |-- Fuel: string (nullable = true)\n |-- stateId: string (nullable = true)\n |-- State_name: string (nullable = true)\n |-- value: double (nullable = true)\n |-- unit: string (nullable = true)\n\n+-------+-----------------+--------+--------------------+------+---------+-------+----------+-----------------+--------------------+\n|summary|           period|sectorId|              Sector|fuelId|     Fuel|stateId|State_name|            value|                unit|\n+-------+-----------------+--------+--------------------+------+---------+-------+----------+-----------------+--------------------+\n|  count|            26928|   26928|               26928| 26928|    26928|  26928|     26928|            26928|               26928|\n|   mean|           2010.5|    null|                null|  null|     null|   null|      null|17.96557888766334|                null|\n| stddev|6.344406574470888|    null|                null|  null|     null|   null|      null|40.29724659408511|                null|\n|    min|             2000|      CC|Commercial carbon...|    CO|All Fuels|     AK|   Alabama|              0.0|million metric to...|\n|    max|             2021|      TT|Transportation ca...|    TO|Petroleum|     WY|   Wyoming|       684.814849|million metric to...|\n+-------+-----------------+--------+--------------------+------+---------+-------+----------+-----------------+--------------------+\n\n"
     ]
    }
   ],
   "source": [
    "df_co.printSchema()\n",
    "df_co.describe().show()"
   ]
  },
  {
   "cell_type": "code",
   "execution_count": 0,
   "metadata": {
    "application/vnd.databricks.v1+cell": {
     "cellMetadata": {
      "byteLimit": 2048000,
      "rowLimit": 10000
     },
     "inputWidgets": {},
     "nuid": "c47ef97e-732f-4e61-bb96-6502388c7931",
     "showTitle": false,
     "title": ""
    }
   },
   "outputs": [
    {
     "output_type": "stream",
     "name": "stdout",
     "output_type": "stream",
     "text": [
      "+------+--------+-----------+------+---------+-------+----------+-----+-----------+\n|period|sectorId|sector-name|fuelId|fuel-name|stateId|state-name|value|value-units|\n+------+--------+-----------+------+---------+-------+----------+-----+-----------+\n|     0|       0|          0|     0|        0|      0|         0|    0|          0|\n+------+--------+-----------+------+---------+-------+----------+-----+-----------+\n\nOut[22]: 0"
     ]
    }
   ],
   "source": [
    "#Check Nulls in a DF\n",
    "from pyspark.sql.functions import col,isnan, when, count\n",
    "df_co.select([count(when(isnan(c) | col(c).isNull(), c)).alias(c) for c in df_co.columns]\n",
    "   ).show()\n",
    "#Check the duplicates\n",
    "df_co.createOrReplaceTempView(\"co2\")\n",
    "spark.sql(\"select * from co2 group by all having count(*)>1\").count()"
   ]
  },
  {
   "cell_type": "code",
   "execution_count": 0,
   "metadata": {
    "application/vnd.databricks.v1+cell": {
     "cellMetadata": {
      "byteLimit": 2048000,
      "rowLimit": 10000
     },
     "inputWidgets": {},
     "nuid": "14bcd874-199d-49e8-8812-223fca2e7bb0",
     "showTitle": false,
     "title": ""
    }
   },
   "outputs": [
    {
     "output_type": "stream",
     "name": "stdout",
     "output_type": "stream",
     "text": [
      "+------+--------+--------------------+------+-----------+-------+----------+---------+--------------------+-------+\n|period|sectorId|              Sector|fuelId|       Fuel|stateId|State_name|    value|                unit|regions|\n+------+--------+--------------------+------+-----------+-------+----------+---------+--------------------+-------+\n|  2021|      RC|Residential carbo...|    CO|       Coal|     AK|    Alaska|      0.0|million metric to...|   West|\n|  2021|      TT|Total carbon diox...|    NG|Natural Gas|     AK|    Alaska|19.623623|million metric to...|   West|\n|  2021|      RC|Residential carbo...|    PE|  Petroleum|     AK|    Alaska| 0.616132|million metric to...|   West|\n|  2021|      RC|Residential carbo...|    NG|Natural Gas|     AK|    Alaska| 1.113967|million metric to...|   West|\n|  2021|      RC|Residential carbo...|    TO|  All Fuels|     AK|    Alaska| 1.730099|million metric to...|   West|\n|  2021|      CC|Commercial carbon...|    CO|       Coal|     AK|    Alaska| 0.706643|million metric to...|   West|\n|  2021|      CC|Commercial carbon...|    PE|  Petroleum|     AK|    Alaska| 0.727085|million metric to...|   West|\n|  2021|      CC|Commercial carbon...|    NG|Natural Gas|     AK|    Alaska| 0.869787|million metric to...|   West|\n|  2021|      CC|Commercial carbon...|    TO|  All Fuels|     AK|    Alaska| 2.303515|million metric to...|   West|\n|  2021|      TC|Transportation ca...|    CO|       Coal|     AK|    Alaska|      0.0|million metric to...|   West|\n|  2021|      TC|Transportation ca...|    PE|  Petroleum|     AK|    Alaska|13.624604|million metric to...|   West|\n|  2021|      TC|Transportation ca...|    NG|Natural Gas|     AK|    Alaska| 0.025608|million metric to...|   West|\n|  2021|      TC|Transportation ca...|    TO|  All Fuels|     AK|    Alaska|13.650212|million metric to...|   West|\n|  2021|      EC|Electric Power ca...|    CO|       Coal|     AK|    Alaska| 1.083132|million metric to...|   West|\n|  2021|      EC|Electric Power ca...|    PE|  Petroleum|     AK|    Alaska| 0.364695|million metric to...|   West|\n|  2021|      EC|Electric Power ca...|    NG|Natural Gas|     AK|    Alaska| 1.350157|million metric to...|   West|\n|  2021|      EC|Electric Power ca...|    TO|  All Fuels|     AK|    Alaska| 2.797984|million metric to...|   West|\n|  2021|      IC|Industrial carbon...|    CO|       Coal|     AK|    Alaska| 0.002105|million metric to...|   West|\n|  2021|      IC|Industrial carbon...|    PE|  Petroleum|     AK|    Alaska| 2.124507|million metric to...|   West|\n|  2021|      IC|Industrial carbon...|    NG|Natural Gas|     AK|    Alaska|16.264103|million metric to...|   West|\n+------+--------+--------------------+------+-----------+-------+----------+---------+--------------------+-------+\nonly showing top 20 rows\n\nOut[64]: 26928"
     ]
    }
   ],
   "source": [
    "conditions_col1 = [\n",
    "    (col(\"State_name\").isin(\"Connecticut\", \"Maine\", \"Massachusetts\", \"New Hampshire\", \"New Jersey\",\n",
    "                        \"New York\", \"Pennsylvania\", \"Rhode Island\", \"Vermont\"), \"Northeast\"),\n",
    "    (col(\"State_name\").isin(\"Illinois\", \"Indiana\", \"Iowa\", \"Kansas\", \"Michigan\", \"Minnesota\",\n",
    "                        \"Missouri\", \"Nebraska\", \"North Dakota\", \"Ohio\", \"South Dakota\", \"Wisconsin\"), \"Midwest\"),\n",
    "    (col(\"State_name\").isin(\"Alabama\", \"Arkansas\", \"Delaware\", \"District of Columbia\", \"Florida\", \"Georgia\",\n",
    "                        \"Kentucky\", \"Louisiana\", \"Maryland\", \"Mississippi\", \"North Carolina\", \"Oklahoma\",\n",
    "                        \"South Carolina\", \"Tennessee\", \"Texas\", \"Virginia\", \"West Virginia\"), \"South\"),\n",
    "    (col(\"State_name\").isin(\"Alaska\", \"Arizona\", \"California\", \"Colorado\", \"Hawaii\", \"Idaho\", \"Montana\",\n",
    "                        \"Nevada\", \"New Mexico\", \"Oregon\", \"Utah\", \"Washington\", \"Wyoming\"), \"West\")\n",
    "]\n",
    "\n",
    "result_df_co = df_co \\\n",
    "   .withColumn(\"regions\", \n",
    "                when(conditions_col1[0][0], conditions_col1[0][1])\n",
    "                .when(conditions_col1[1][0], conditions_col1[1][1])\n",
    "                .when(conditions_col1[2][0], conditions_col1[2][1])\n",
    "                .when(conditions_col1[3][0], conditions_col1[3][1])\n",
    "                .otherwise(\"Other\")) \n",
    "\n",
    "result_df_co.show()\n",
    "result_df_co.count()"
   ]
  },
  {
   "cell_type": "code",
   "execution_count": 0,
   "metadata": {
    "application/vnd.databricks.v1+cell": {
     "cellMetadata": {
      "byteLimit": 2048000,
      "rowLimit": 10000
     },
     "inputWidgets": {},
     "nuid": "b0a83058-b8ab-45c2-973a-dfa919533499",
     "showTitle": false,
     "title": ""
    }
   },
   "outputs": [],
   "source": [
    "result_df_co.coalesce(1).write.mode(\"overwrite\").option(\"header\",'true').csv(\"/mnt/energyclimatenexus/Transformed_data/co2_emissions_data\")"
   ]
  }
 ],
 "metadata": {
  "application/vnd.databricks.v1+notebook": {
   "dashboards": [],
   "language": "python",
   "notebookMetadata": {
    "pythonIndentUnit": 4
   },
   "notebookName": "Data Transformation",
   "widgets": {}
  }
 },
 "nbformat": 4,
 "nbformat_minor": 0
}
